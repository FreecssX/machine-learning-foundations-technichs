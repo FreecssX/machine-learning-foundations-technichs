{
 "cells": [
  {
   "cell_type": "markdown",
   "metadata": {},
   "source": [
    "# <center>Homework #5</center> "
   ]
  },
  {
   "cell_type": "code",
   "execution_count": 1,
   "metadata": {},
   "outputs": [],
   "source": [
    "import math\n",
    "import matplotlib.pyplot as plt\n",
    "import numpy as np\n",
    "import scipy.optimize\n",
    "from sklearn.svm import SVC\n",
    "import sympy "
   ]
  },
  {
   "cell_type": "markdown",
   "metadata": {},
   "source": [
    "![p1](./hw5_1.png)"
   ]
  },
  {
   "cell_type": "markdown",
   "metadata": {},
   "source": [
    "1.<br>\n",
    "For primal formulation of linear soft -margin support vector machine, we want to minimize:  \n",
    "$$E_{aug} = \\frac {1}{2} w^Tw + C\\sum\\limits_{n=1}^{N}\\xi_n, \\\\ s.t.\\,\\,\\,y_n(w^Txn + b)>= 1- \\xi _n \\,\\,\\,and \\,\\, \\xi_n >= 0 \\,\\,for \\,\\, all\\,\\, n\\\\ $$\n",
    "There are N+d+1 variables and there are 2N constrains"
   ]
  },
  {
   "cell_type": "markdown",
   "metadata": {},
   "source": [
    "![p2](./hw5_2_5.png)"
   ]
  },
  {
   "cell_type": "markdown",
   "metadata": {},
   "source": [
    "2.<br>\n"
   ]
  },
  {
   "cell_type": "code",
   "execution_count": 2,
   "metadata": {},
   "outputs": [
    {
     "data": {
      "image/png": "[encoded data removed]",
      "text/plain": [
       "<matplotlib.figure.Figure at 0x7f4f85d51320>"
      ]
     },
     "metadata": {},
     "output_type": "display_data"
    }
   ],
   "source": [
    "def transform_P2(x):\n",
    "    z1 = x[1] ** 2 - 2 * x[0] + 3\n",
    "    z2 = x[0] ** 2 - 2 * x[1] - 3\n",
    "    return [z1, z2]\n",
    "\n",
    "x1 = [1, 0, -1]\n",
    "x2 = [0, 1, -1]\n",
    "x3 = [0, -1, -1]\n",
    "x4 = [-1, 0, 1]\n",
    "x5 = [0, 2, 1]\n",
    "x6 = [0, -2, 1]\n",
    "x7 = [-2, 0, 1]\n",
    "Z = [transform_P2(x) + [x[-1]] for x in [x1, x2, x3, x4, x5, x6, x7]]\n",
    "for z in Z:\n",
    "    plt.scatter(z[0], z[1], c=['red', 'blue'][z[2] == 1])\n",
    "plt.plot([4.5, 4.5], [-8, 2], c='black')\n",
    "plt.title(\"points in z space\")\n",
    "plt.show()"
   ]
  },
  {
   "cell_type": "markdown",
   "metadata": {},
   "source": [
    "The hyperplane is $z_1 = 4.5$"
   ]
  },
  {
   "cell_type": "markdown",
   "metadata": {},
   "source": [
    "3.<br>"
   ]
  },
  {
   "cell_type": "code",
   "execution_count": 3,
   "metadata": {},
   "outputs": [
    {
     "name": "stdout",
     "output_type": "stream",
     "text": [
      "alpha =\n",
      " [[-0.64491963 -0.76220325  0.88870349  0.22988879  0.2885306 ]]\n",
      "support vectors are:\n",
      " [[ 0.  1.]\n",
      " [ 0. -1.]\n",
      " [-1.  0.]\n",
      " [ 0.  2.]\n",
      " [ 0. -2.]]\n"
     ]
    }
   ],
   "source": [
    "X = np.array([x1[:-1], x2[:-1], x3[:-1], \\\n",
    "              x4[:-1], x5[:-1], x6[:-1], x7[:-1]])\n",
    "y = np.array([-1, -1, -1, 1, 1, 1, 1])\n",
    "clf = SVC(C=1e10, kernel='poly', degree=2,gamma=1, coef0=1, shrinking=False)\n",
    "clf.fit(X, y)\n",
    "print('alpha =\\n', clf.dual_coef_)\n",
    "print('support vectors are:\\n',clf.support_vectors_)"
   ]
  },
  {
   "cell_type": "markdown",
   "metadata": {},
   "source": [
    "4.<br>"
   ]
  },
  {
   "cell_type": "markdown",
   "metadata": {},
   "source": [
    "The transformation of x is $\\Phi (x) = (1, \\sqrt 2x_1, \\sqrt 2 x_2, x_1^2, x_2^2)$, the corresponding $z_i$ for support vectors are:  \n",
    "$$[1, 0, \\sqrt 2, 0, 1] \\,\\,with \\,\\,-1$$\n",
    "$$[1, 0, -\\sqrt 2, 0, 1] \\,\\,with \\,\\,-1$$\n",
    "$$[1, -\\sqrt 2, 0, 1, 0] \\,\\,with \\,\\,1$$\n",
    "$$[1, 0, 2\\sqrt 2, 0, 4] \\,\\,with  \\,\\,1$$\n",
    "$$[1, 0, -2\\sqrt 2, 0, 4] \\,\\,with \\,\\,1$$\n",
    "and the w is $\\sum\\limits_{sv}\\alpha_ny_nz_n = [1.11e{(-16)} \\,\\, -1.257 \\,\\,2.22e{(-16)}\\,\\,8.89e{(-01)} \\,\\,6.67e{(-01)}]$, (see code below)  \n",
    "\n",
    "The equation of the curve is:  \n",
    "$$2.814 -1.257x_1 - 0.332x_2 + 0.889x_1^2 + 3.481x_2^2  - 1.666= 0$$"
   ]
  },
  {
   "cell_type": "code",
   "execution_count": 4,
   "metadata": {},
   "outputs": [
    {
     "name": "stdout",
     "output_type": "stream",
     "text": [
      "weights of w: [  1.11022302e-16  -1.25681653e+00   2.22044605e-16   8.88703494e-01\n",
      "   6.66554655e-01]\n"
     ]
    }
   ],
   "source": [
    "sv1 = np.array([1,  0,              math.sqrt(2),     0, 1])\n",
    "sv2 = np.array([1,  0,             -math.sqrt(2),     0, 1])\n",
    "sv3 = np.array([1, -math.sqrt(2),   0,                1, 0])\n",
    "sv4 = np.array([1,  0,              2 * math.sqrt(2), 0, 4])\n",
    "sv5 = np.array([1,  0,             -2 * math.sqrt(2), 0, 4])\n",
    "y_sv = np.array([-1, -1, 1, 1, 1])\n",
    "w = np.array([0., 0., 0., 0., 0.])\n",
    "svs = [sv1, sv2, sv3, sv4, sv5]\n",
    "for i in range(len(clf.dual_coef_[0])):\n",
    "    w += clf.dual_coef_[0][i] *  svs[i]  \n",
    "print(\"weights of w:\",w)\n"
   ]
  },
  {
   "cell_type": "code",
   "execution_count": 5,
   "metadata": {},
   "outputs": [
    {
     "data": {
      "image/png": "[encoded data removed]",
      "text/plain": [
       "<matplotlib.figure.Figure at 0x7f4f85dc52e8>"
      ]
     },
     "metadata": {},
     "output_type": "display_data"
    }
   ],
   "source": [
    "for x in [x1, x2, x3, x4, x5, x6, x7]:\n",
    "    plt.scatter(x[0], x[1],c=['red', 'blue'][x[-1] == 1])\n",
    "\n",
    "X1 = []\n",
    "X2 = []\n",
    "for i in range(153):\n",
    "    x1_ = -0.83 + 0.02 * i\n",
    "    try:\n",
    "        x2_ = sympy.Symbol('x2_')\n",
    "        x2_ = sympy.solve(2.22e-16 * x2_ + 6.67e-01 * x2_ ** 2 - 1.666 + 1.11e-16 - 1.257e+00 * x1_ + 8.89e-01 * x1_ ** 2, x2_)\n",
    "        X1.append(x1_)\n",
    "        X2.append(x2_)\n",
    "    except:\n",
    "        pass\n",
    "for i in range(153):\n",
    "    plt.scatter(X1[i], X2[i][0],c='green')\n",
    "    plt.scatter(X1[i], X2[i][1], c='green')\n",
    "plt.title(\"the curve of the equation for problem 3\")\n",
    "plt.show()"
   ]
  },
  {
   "cell_type": "markdown",
   "metadata": {},
   "source": [
    "5.<br>\n",
    "For problem 2, the equation of the curve is $x_2^2 - 2x_1 - 1.5 = 0$"
   ]
  },
  {
   "cell_type": "code",
   "execution_count": 6,
   "metadata": {},
   "outputs": [
    {
     "data": {
      "image/png": "[encoded data removed]",
      "text/plain": [
       "<matplotlib.figure.Figure at 0x7f4f868379e8>"
      ]
     },
     "metadata": {},
     "output_type": "display_data"
    }
   ],
   "source": [
    "for x in [x1, x2, x3, x4, x5, x6, x7]:\n",
    "    plt.scatter(x[0], x[1],c=['red', 'blue'][x[-1] == 1])\n",
    "\n",
    "X1 = []\n",
    "X2 = []\n",
    "for i in range(100):\n",
    "    x1_ = -0.75 + 0.02 * i\n",
    "    try:\n",
    "        x2_ = sympy.Symbol('x2_')\n",
    "        x2_ = sympy.solve(x2_ ** 2 - 2 * x1_ - 1.5, x2_)\n",
    "        X1.append(x1_)\n",
    "        X2.append(x2_)\n",
    "    except:\n",
    "        pass\n",
    "for i in range(100):\n",
    "    plt.scatter(X1[i], X2[i][0],c='green')\n",
    "    if i != 0:\n",
    "        plt.scatter(X1[i], X2[i][1], c='green')\n",
    "plt.title(\"the curve of the equation for problem 3\")\n",
    "plt.show()"
   ]
  },
  {
   "cell_type": "markdown",
   "metadata": {},
   "source": [
    "As you can see, the two curve is not the same and the curve in problem 4 seems better"
   ]
  },
  {
   "cell_type": "markdown",
   "metadata": {},
   "source": [
    "![p6](./hw5_6_10.png)"
   ]
  },
  {
   "cell_type": "markdown",
   "metadata": {},
   "source": [
    "6.<br>\n",
    "$\\underset{R\\in \\Re , c \\in \\Re ^d}{min} \\,\\,\\,\\, \\underset{\\lambda _n >=0}{max}\\,\\,L(R,c, \\lambda) = \\underset{R\\in \\Re , c \\in \\Re ^d}{min} \\,\\,\\,\\, \\underset{\\lambda _n >=0}{max}\\,\\,\\,R^2 + \\sum_{n = 1}^{N}\\lambda _n (||x_n -c ||^2 - R^2)$"
   ]
  },
  {
   "cell_type": "markdown",
   "metadata": {},
   "source": [
    "7.<br>\n",
    "primal feasile: $||x_n - c||^2 < R^2$  \n",
    "dual feasible: $\\lambda _n >= 0$  \n",
    "dual-inner optimal: $R(1- \\sum_{n = 1}^{N}\\lambda _n)= 0\\,\\,$  and  $\\,\\,\\sum_{n = 1}^{N}\\lambda _nC - \\sum_{n=1}^{N}\\lambda_nx_n = 0$  \n",
    "primal-inner:  $\\lambda_n(||x_n - c|| ^ 2 - R^2) = 0$  \n",
    "\n",
    "From dual-inner optimal, we know if $\\sum_{n = 1}^{N}\\lambda_n \\neq 0$, $c = \\frac{\\sum_{n = 1}^{N}\\lambda_nx_n} {\\sum_{n = 1}^{N}\\lambda_n}$"
   ]
  },
  {
   "cell_type": "markdown",
   "metadata": {},
   "source": [
    "8.<br>\n",
    "$\\underset{R\\in \\Re , c \\in \\Re ^d}{min} \\,\\,\\,\\, \\underset{\\lambda _n >=0}{max}\\,\\,L(R,c, \\lambda) = \\underset{R\\in \\Re , c \\in \\Re ^d}{min} \\,\\,\\,\\, \\underset{\\lambda _n >=0}{max}\\,\\,\\,R^2 + \\sum_{n = 1}^{N}\\lambda _n (||x_n -c ||^2 - R^2) = \\\\ \\underset{R\\in \\Re , c \\in \\Re ^d}{min} \\,\\,\\,\\, \\underset{\\lambda _n >=0}{max}\\,\\,L(R,c, \\lambda) = \\,\\,\\,\\,\\underset{\\lambda _n >=0}{max}\\,\\,\\,\\underset{R\\in \\Re , c \\in \\Re ^d}{min} \\,\\,\\,\\, R^2 + \\sum_{n = 1}^{N}\\lambda _n (||x_n -c ||^2 - R^2)$  \n",
    "\n",
    "Let $\\frac{\\partial L}{\\partial R} = 0$, we get:   \n",
    "\n",
    "$\\underset{\\lambda _n >=0, R(1- \\sum_{n = 1}^{N}\\lambda _n)= 0}{max}\\,\\,\\,\\underset{c \\in \\Re ^d}{min} \\,\\,\\,\\, \\sum_{n = 1}^{N}\\lambda _n ||x_n -c ||^2$  \n",
    "\n",
    "Let $\\frac{\\partial L}{\\partial c} = 0$, because $R > 0, \\sum_{n=1}^{N}\\lambda _n = 1$, we get:  \n",
    "\n",
    "$\\underset{\\lambda _n >=0,\\sum_{n=1}^{N}\\lambda _n = 1, R(1- \\sum_{n = 1}^{N}\\lambda _n)= 0, \\,\\,C =\\sum_{n=1}^{N}\\lambda_nx_n}{max}\\,\\,\\,\\, \\sum_{n = 1}^{N}\\lambda _n ||x_n -\\sum_{m=1}^{N}\\lambda_mx_m ||^2$\n",
    "\n"
   ]
  },
  {
   "cell_type": "markdown",
   "metadata": {},
   "source": [
    "9.<br>\n",
    "primal feasile: $||z_n - c||^2 < R^2$  \n",
    "dual feasible: $\\lambda _n >= 0$  \n",
    "dual-inner optimal: $R(1- \\sum_{n = 1}^{N}\\lambda _n)= 0\\,\\,$  and  $\\,\\,\\sum_{n = 1}^{N}\\lambda _nC - \\sum_{n=1}^{N}\\lambda_nz_n = 0$  \n",
    "primal-inner:  $\\lambda_n(||z_n - c|| ^ 2 - R^2) = 0$  \n",
    "\n",
    "From dual-inner optimal, we know if $\\sum_{n = 1}^{N}\\lambda_n \\neq 0$, $c = \\frac{\\sum_{n = 1}^{N}\\lambda_nz_n} {\\sum_{n = 1}^{N}\\lambda_n}$\n",
    "\n",
    "Finally we will solve:  \n",
    "$\\underset{\\lambda _n >=0,\\sum_{n=1}^{N}\\lambda _n = 1, R(1- \\sum_{n = 1}^{N}\\lambda _n)= 0, \\,\\,C =\\sum_{n=1}^{N}\\lambda_nz_n}{max}\\,\\,\\,\\, \\sum_{n = 1}^{N}\\lambda _n ||z_n -\\sum_{m=1}^{N}\\lambda_mz_m ||^2 \\\\ \n",
    "= \\sum_{n = 1}^{N}\\lambda_n z^T_nz_n -2\\sum_{n = 1}^{N}\\sum_{m = 1}^{N} \\lambda_n\\lambda_mx_n^Tx_m + \\sum_{n = 1}^{N}\\lambda_n\\sum_{m = 1}^{N}\\sum_{k = 1}^{N}\\lambda_m\\lambda_kx_m^Tx_k \\\\ = \n",
    "\\sum_{n = 1}^{N}\\lambda_n K(x_n,x_n) -\\sum_{n = 1}^{N}\\sum_{m = 1}^{N} \\lambda_n\\lambda_mK(x_n,x_m)$\n",
    "\n",
    "\n"
   ]
  },
  {
   "cell_type": "markdown",
   "metadata": {},
   "source": [
    "10.<br>\n",
    "For some i that $\\lambda_i \\neq 0$, we have  \n",
    "$R^2 = ||z_i - c||^2 \\\\= z_i^Tz_i - 2z_i^Tc + c^Tc\n",
    "\\\\ = z_i^Tz_i - 2z_i^T\\sum_{n = 1}^{N}\\lambda_nz_n + \\sum_{n = 1}^{N}\\lambda_nz_n^T\\sum_{m = 1}^{N}\\lambda_mz_m\\\\\n",
    "=K(x_i,x_i) - 2\\sum_{n = 1}^{N}\\lambda_nK(x_i,x_n) + \\sum_{n = 1}^{N}\\sum_{m = 1}^{N}\\lambda_n\\lambda_mK(x_n,x_m)$  \n",
    "\n",
    "$R = \\sqrt {K(x_i,x_i) - 2\\sum_{n = 1}^{N}\\lambda_nK(x_i,x_n) + \\sum_{n = 1}^{N}\\sum_{m = 1}^{N}\\lambda_n\\lambda_mK(x_n,x_m)}$"
   ]
  },
  {
   "cell_type": "markdown",
   "metadata": {},
   "source": [
    "![p11](./hw5_11.png)"
   ]
  },
  {
   "cell_type": "markdown",
   "metadata": {},
   "source": [
    "11.<br>\n",
    "$\\frac{1}{2}w^Tw + C\\sum\\limits_{n = 1}^{N}\\xi = \\frac{1}{2}w^Tw +\\frac{1}{2}\\sum\\limits_{n = 1}^{N}(\\sqrt{2C}\\xi_n)^2$  \n",
    "Let $\\tilde w = \\left [ \\begin {matrix} w \\\\ \\sqrt{2C}\\xi_1 \\\\ \\vdots \\\\ \\sqrt{2C}\\xi_N \\end {matrix} \\right ], \\,\\,\\,and\\,\\,\\, \\tilde x_n = \\left [ \\begin {matrix} x_n \\\\ 0\\\\ \\vdots \\\\ \\frac{\\sqrt{\\frac{1}{2C}}}{y_n} \\\\ \\vdots  \\end {matrix} \\right ]$ where the (N+n)th element is $\\frac{\\sqrt{\\frac{1}{2C}}}{y_n}$  \n",
    "Then the original problem becomes:  \n",
    "$\\underset{w,b,\\xi}{min}\\,\\,\\,\\frac{1}{2}\\tilde w^T \\tilde w$  \n",
    "subject to $y_n(\\tilde w^T\\tilde x_n + b)>= 1$\n",
    "\n",
    "$w = \\left [ \\begin {matrix} I_{d \\times d} & 0 \\\\ 0 & 0_{N\\times N} \\end{matrix} \\right ]\\tilde w$"
   ]
  },
  {
   "cell_type": "markdown",
   "metadata": {},
   "source": [
    "![p12](./hw5_12_13.png)"
   ]
  },
  {
   "cell_type": "markdown",
   "metadata": {},
   "source": [
    "12.<br>\n",
    "[a] is valid since $[K(x, x^`)]_{n\\times n} = [K_1(x, x^`)]_{n\\times n} + [K_2(x, x^`)]_{n\\times n}$ is semi positive definite  \n",
    "[b] is not valid. Suppose $K_2(x, x^`) = -2 K_1(x, x^`)$, then $[K(x, x^`)]_{n\\times n} = [K_1(x, x^`)]_{n\\times n} - 2[K_1(x, x^`)]_{n\\times n} = -[K_1(x, x^`)]_{n\\times n}$, not semi positive definite  \n",
    "[c] is valid. Because $[K_1(x, x^`)]\\,\\,\\, and \\,\\,\\, [K_2[x,x^`]]$ are semi positive definite, so their dot product is still semi positive definite.  \n",
    "[4] is not valid. Suppose $[K_1(x, x^`)] = \\left [ \\begin{matrix} 16 & 1 \\\\ 1 & 16 \\end{matrix} \\right ], [K_2(x, x^`)] = \\left [ \\begin{matrix} 4 & 1 \\\\ 1 & 4 \\end{matrix} \\right ]$, then $K = K_2 / K_1 = \\left [ \\begin{matrix} 0.25 & 1 \\\\ 1 & 0.25 \\end{matrix} \\right ]$, not semi positive definite"
   ]
  },
  {
   "cell_type": "markdown",
   "metadata": {},
   "source": [
    "13.<br>\n",
    "[a] is not valid if $[K(x, x^`)] = \\left [ \\begin{matrix} 1 & 1 \\\\ 1 & 1 \\end{matrix} \\right ]$  \n",
    "[b] is valid  \n",
    "[c] is not valid if $[K(x, x^`)] = \\left [ \\begin{matrix} \\frac{4}{5} & \\frac{1}{5} \\\\ \\frac{1}{5} & \\frac{4}{5} \\end{matrix} \\right ]$  \n",
    "[d] is valid. $\\large\\sum\\limits_{i,j}y_iy_jK_{ij} = \\sum\\limits_{i,j}y_iy_j\\frac {1}{1 - K_{1,ij}} = \\sum\\limits_{i,j}y_iy_j\\frac {K_{1,ij}}{(K_{1,ij})(1 - K_{1,ij})} > \\sum\\limits_{i,j}y_iy_j {K_{1,ij}} >=0$"
   ]
  },
  {
   "cell_type": "markdown",
   "metadata": {},
   "source": [
    "![p14](./hw5_14.png)"
   ]
  },
  {
   "cell_type": "markdown",
   "metadata": {},
   "source": [
    "14.<br>\n",
    "$g_{SVM}(z_m) = \\,\\,sign(\\sum\\limits_{n}\\alpha_ny_nz_nz_m) + y_n - (\\sum\\limits_{n}\\alpha_ny_nz_nz_s) \\\\\n",
    "= \\,\\,sign(\\sum\\limits_{n}\\alpha_ny_nK(z_n,z_m)) + y_n - (\\sum\\limits_{n}\\alpha_ny_nK(z_n,z_s)) \\\\ \n",
    "= \\,\\,sign(\\sum\\limits_{n}\\alpha_ny_n\\frac{\\tilde K(z_n,z_m) - q}{p} + y_n - (\\sum\\limits_{n}\\alpha_ny_n\\frac{\\tilde K(z_n,z_s) - q}{p}) \\\\\n",
    "= \\,\\,sign(\\sum\\limits_{n}\\alpha_ny_n\\frac{\\tilde K(z_n,z_m)}{p} + y_n - (\\sum\\limits_{n}\\alpha_ny_n\\frac{\\tilde K(z_n,z_s)}{p}) \\\\\n",
    "=\\,\\,sign(\\sum\\limits_{n}\\frac{\\alpha_n}{p}y_n\\tilde K(z_n,z_m) + y_n - (\\sum\\limits_{n}\\frac{\\alpha_n}{p}y_n\\tilde K(z_n,z_s))$  \n",
    "Let $\\frac{\\alpha_n}{p} = \\tilde\\alpha_n$, then $\\tilde C = \\frac{C}{p}$ becomes new $C$"
   ]
  },
  {
   "cell_type": "markdown",
   "metadata": {},
   "source": [
    "![p15](./hw5_15_17.png)"
   ]
  },
  {
   "cell_type": "code",
   "execution_count": 7,
   "metadata": {},
   "outputs": [],
   "source": [
    "train_data = np.loadtxt('features.train.txt')\n",
    "test_data = np.loadtxt('features.test.txt')\n",
    "def generate_data(data):\n",
    "    X = data[:, 1:]\n",
    "    y = data[:, 0]\n",
    "    return X, y\n",
    "\n",
    "def zero_vs_one(y, digit):\n",
    "    return (y == digit) * 1\n",
    "logc = [-6, -4, -2, 0, 2]\n"
   ]
  },
  {
   "cell_type": "markdown",
   "metadata": {},
   "source": [
    "15.<br>"
   ]
  },
  {
   "cell_type": "code",
   "execution_count": 8,
   "metadata": {},
   "outputs": [
    {
     "data": {
      "image/png": "[encoded data removed]",
      "text/plain": [
       "<matplotlib.figure.Figure at 0x7f4f85e57a58>"
      ]
     },
     "metadata": {},
     "output_type": "display_data"
    }
   ],
   "source": [
    "X_train, y = generate_data(train_data)\n",
    "y_0 = zero_vs_one(y, 0)\n",
    "w_array = []\n",
    "for i in range(len(logc)):\n",
    "    lin_clf = SVC(C=10**(logc[i]), kernel='linear', shrinking=False)\n",
    "    lin_clf.fit(X_train, y_0)\n",
    "    w_array.append(lin_clf.coef_)\n",
    "w_length = [np.linalg.norm(w_array[i]) for i in range(len(w_array))]\n",
    "plt.figure()\n",
    "plt.plot(logc, w_length)\n",
    "plt.title('||w|| vs logc')\n",
    "plt.show()"
   ]
  },
  {
   "cell_type": "markdown",
   "metadata": {},
   "source": [
    "When C increases, the ||w|| becomes shorter for the reason that the margin have to shrink to decrease the violations of points"
   ]
  },
  {
   "cell_type": "markdown",
   "metadata": {},
   "source": [
    "16.<br>"
   ]
  },
  {
   "cell_type": "code",
   "execution_count": 9,
   "metadata": {},
   "outputs": [
    {
     "data": {
      "image/png": "[encoded data removed]",
      "text/plain": [
       "<matplotlib.figure.Figure at 0x7f4f85bc2ef0>"
      ]
     },
     "metadata": {},
     "output_type": "display_data"
    }
   ],
   "source": [
    "logc = [-6, -4, -2, 0, 2]\n",
    "X_train, y_train = generate_data(train_data)\n",
    "y_8_train = zero_vs_one(y_train, 8)\n",
    "#X_test, y_test = generate_data(test_data)\n",
    "#y_8_test = zero_vs_one(y_test, 8)\n",
    "Ein_array = []\n",
    "dual_coef_array = []\n",
    "for i in range(len(logc)):\n",
    "    poly_clf = SVC(C=10**(logc[i]), kernel='poly', degree=2, gamma=1, coef0=1, shrinking=False)\n",
    "    poly_clf.fit(X_train, y_8_train)\n",
    "    Ein_array.append(1 - poly_clf.score(X_train, y_8_train))\n",
    "    dual_coef_array.append(np.abs(poly_clf.dual_coef_))\n",
    "plt.figure()\n",
    "plt.plot(logc, Ein_array)\n",
    "plt.title('Ein vs logc')\n",
    "plt.show()"
   ]
  },
  {
   "cell_type": "markdown",
   "metadata": {},
   "source": [
    "As C increses, Ein does not change too much"
   ]
  },
  {
   "cell_type": "markdown",
   "metadata": {},
   "source": [
    "17.<br>"
   ]
  },
  {
   "cell_type": "code",
   "execution_count": 10,
   "metadata": {
    "scrolled": true
   },
   "outputs": [
    {
     "data": {
      "image/png": "[encoded data removed]",
      "text/plain": [
       "<matplotlib.figure.Figure at 0x7f4fa80ba128>"
      ]
     },
     "metadata": {},
     "output_type": "display_data"
    }
   ],
   "source": [
    "dual_sum_array = [np.sum(dual) for dual in dual_coef_array]\n",
    "plt.figure()\n",
    "plt.plot(logc, w_length)\n",
    "plt.title('sum of alpha vs logc')\n",
    "plt.show()"
   ]
  },
  {
   "cell_type": "markdown",
   "metadata": {},
   "source": [
    "![p_18](./hw5_18_20.png)"
   ]
  },
  {
   "cell_type": "markdown",
   "metadata": {},
   "source": [
    "18.<br>"
   ]
  },
  {
   "cell_type": "code",
   "execution_count": 11,
   "metadata": {},
   "outputs": [
    {
     "data": {
      "image/png": "[encoded data removed]",
      "text/plain": [
       "<matplotlib.figure.Figure at 0x7f4f854002e8>"
      ]
     },
     "metadata": {},
     "output_type": "display_data"
    }
   ],
   "source": [
    "X_train, y_train = generate_data(train_data)\n",
    "y_0_train = zero_vs_one(y_train, 0)\n",
    "X_test, y_test = generate_data(test_data)\n",
    "y_0_test = zero_vs_one(y_test, 0)\n",
    "gamma = 100\n",
    "logc = [-3, -2, -1, 0, 1]\n",
    "distance_array = []\n",
    "logcs = []\n",
    "\n",
    "for i in range(len(logc)):\n",
    "    gauss_clf = SVC(C=10**(logc[i]), kernel='rbf',shrinking=False, gamma=gamma)\n",
    "    gauss_clf.fit(X_train, y_0_train)\n",
    "    dual_coefs = np.abs(gauss_clf.dual_coef_)\n",
    "    svs = X_train[list(gauss_clf.support_)]\n",
    "    K = [[np.exp(-gamma * np.linalg.norm(xi - xj) ** 2) for xj in svs] for xi in svs]\n",
    "    w_length = np.sqrt(np.matmul(gauss_clf.dual_coef_[0].T,np.matmul(K, gauss_clf.dual_coef_[0])))\n",
    "    for j in range(len(dual_coefs[0])):\n",
    "        if dual_coefs[0][j] > 0 and dual_coefs[0][j] < 10 ** (logc[i]):\n",
    "            X = gauss_clf.support_vectors_[j].reshape(1, -1)\n",
    "            distance_array.append(np.abs(gauss_clf.decision_function(X)[0] / w_length))\n",
    "            logcs.append(logc[i])\n",
    "            break\n",
    "plt.figure()\n",
    "plt.plot(logcs, distance_array)\n",
    "plt.title(\"distance of free svc to hyperplanes vs logc\")\n",
    "plt.show()"
   ]
  },
  {
   "cell_type": "markdown",
   "metadata": {},
   "source": [
    "The distance decreases as C increases"
   ]
  },
  {
   "cell_type": "markdown",
   "metadata": {},
   "source": [
    "19.<br>\n"
   ]
  },
  {
   "cell_type": "code",
   "execution_count": 12,
   "metadata": {
    "scrolled": true
   },
   "outputs": [
    {
     "data": {
      "image/png": "[encoded data removed]",
      "text/plain": [
       "<matplotlib.figure.Figure at 0x7f4f85405438>"
      ]
     },
     "metadata": {},
     "output_type": "display_data"
    }
   ],
   "source": [
    "C = 0.1\n",
    "log_gamma = [0, 1, 2, 3, 4]\n",
    "Eout_array = []\n",
    "for i in range(len(log_gamma)):\n",
    "    gauss_clf = SVC(C=C, kernel='rbf',shrinking=False, gamma=10**log_gamma[i])\n",
    "    gauss_clf.fit(X_train, y_0_train)\n",
    "    Eout_array.append(1 - gauss_clf.score(X_test, y_0_test))\n",
    "\n",
    "plt.figure()\n",
    "plt.plot(log_gamma, Eout_array)\n",
    "plt.title(\"Eout vs log_gamma\")\n",
    "plt.show()"
   ]
  },
  {
   "cell_type": "markdown",
   "metadata": {},
   "source": [
    "As log_gamma increases, Eout increases"
   ]
  },
  {
   "cell_type": "markdown",
   "metadata": {},
   "source": [
    "20.<br>"
   ]
  },
  {
   "cell_type": "code",
   "execution_count": 13,
   "metadata": {
    "scrolled": true
   },
   "outputs": [
    {
     "data": {
      "image/png": "[encoded data removed]",
      "text/plain": [
       "<matplotlib.figure.Figure at 0x7f4f85fcc978>"
      ]
     },
     "metadata": {},
     "output_type": "display_data"
    }
   ],
   "source": [
    "C = 0.1\n",
    "log_gamma = [0, 1, 2, 3, 4]\n",
    "def sample_for_val_train(random_seed, X_train, y_train):\n",
    "    np.random.seed(random_seed)\n",
    "    sample_index = np.random.permutation(len(y_train))\n",
    "    val_feature = X_train[sample_index[:1000]]\n",
    "    val_label = y_train[sample_index[:1000]]\n",
    "    train_feature = np.delete(X_train, sample_index[:1000], axis=0)\n",
    "    train_label = np.delete(y_train, sample_index[:1000], axis=0)\n",
    "    return val_feature, val_label, train_feature, train_label\n",
    "\n",
    "log_gamma_array = []\n",
    "for i in range(5):\n",
    "    val_feature, val_label, train_feature, train_label = sample_for_val_train(i, X_train, y_0_train)\n",
    "    score_max=0\n",
    "    best_gamma = log_gamma[0]\n",
    "    for j in range(len(log_gamma)):\n",
    "        gauss_clf = SVC(C=C, kernel='rbf',shrinking=False, gamma=10**(log_gamma[j]))\n",
    "        gauss_clf.fit(train_feature, train_label)\n",
    "        score = gauss_clf.score(val_feature, val_label)\n",
    "        if score > score_max:\n",
    "            score_max = score\n",
    "            best_gamma = log_gamma[j]\n",
    "    log_gamma_array.append(best_gamma)\n",
    "    \n",
    "bins = [-1 + i for i in range(6)]\n",
    "plt.hist(bins, log_gamma_array )\n",
    "plt.title(\"histogram for log_gamma\")\n",
    "plt.show()"
   ]
  },
  {
   "cell_type": "markdown",
   "metadata": {},
   "source": [
    "![p21](./hw5_21.png)"
   ]
  }
 ],
 "metadata": {
  "kernelspec": {
   "display_name": "Python 3",
   "language": "python",
   "name": "python3"
  },
  "language_info": {
   "codemirror_mode": {
    "name": "ipython",
    "version": 3
   },
   "file_extension": ".py",
   "mimetype": "text/x-python",
   "name": "python",
   "nbconvert_exporter": "python",
   "pygments_lexer": "ipython3",
   "version": "3.5.2"
  }
 },
 "nbformat": 4,
 "nbformat_minor": 2
}
