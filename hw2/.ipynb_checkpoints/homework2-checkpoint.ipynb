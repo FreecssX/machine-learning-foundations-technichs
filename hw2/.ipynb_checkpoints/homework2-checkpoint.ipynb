{
 "cells": [
  {
   "cell_type": "code",
   "execution_count": 1,
   "metadata": {},
   "outputs": [],
   "source": [
    "import math\n",
    "import matplotlib.pyplot as plt\n",
    "import scipy.optimize\n",
    "import numpy as np"
   ]
  },
  {
   "cell_type": "markdown",
   "metadata": {},
   "source": [
    "# <center>Homework #2</center>"
   ]
  },
  {
   "cell_type": "markdown",
   "metadata": {},
   "source": [
    "![p1](./hw2_1_2.png)"
   ]
  },
  {
   "cell_type": "markdown",
   "metadata": {},
   "source": [
    "1. P(h makes error) = $\\mu \\lambda + (1 - \\mu) (1 - \\lambda) = \\mu(2\\lambda - 1) + 1 - \\lambda$"
   ]
  },
  {
   "cell_type": "markdown",
   "metadata": {},
   "source": [
    "2. When $\\lambda = 0.5$, the performance of h is independent of $\\mu$"
   ]
  },
  {
   "cell_type": "markdown",
   "metadata": {},
   "source": [
    "![p3](./hw2_3_5.png)"
   ]
  },
  {
   "cell_type": "markdown",
   "metadata": {},
   "source": [
    "3.  \n",
    "$$|E_{out}(g) - E_{in}(g)| <= \\sqrt{\\frac {8}{N}ln(\\frac{4(2N)^{d_{vc}}}{\\delta})} = 0.05, with \\quad \\delta = 5\\%, d_{vc} = 10$$\n",
    "By solving the equation, we can get $N \\approx 45300$"
   ]
  },
  {
   "cell_type": "markdown",
   "metadata": {},
   "source": [
    "4.  "
   ]
  },
  {
   "cell_type": "code",
   "execution_count": 2,
   "metadata": {},
   "outputs": [
    {
     "name": "stdout",
     "output_type": "stream",
     "text": [
      "Generalization error bounds when N = 5: ori =  13.8282, var =  16.2641, rad =  7.0488, pvb =  5.1014, devroye =  5.5931\n",
      "Generalization error bounds when N = 10000: ori =  0.6322, var =  0.8604, rad =  0.3313, pvb =  0.2237, devroye =  0.2152\n"
     ]
    },
    {
     "data": {
      "image/png": "[encoded data removed]",
      "text/plain": [
       "<matplotlib.figure.Figure at 0x7f88da798eb8>"
      ]
     },
     "metadata": {},
     "output_type": "display_data"
    }
   ],
   "source": [
    "dvc = 50\n",
    "delta = 0.05\n",
    "\n",
    "def ori_vc(N, delta, dvc):\n",
    "    return math.sqrt(8 / N * math.log(4 * (2 * N) ** dvc / delta, math.exp(1)))\n",
    "\n",
    "def var_vc(N, delta, dvc):\n",
    "    return math.sqrt(16 / N * math.log(2 * (N) ** dvc / math.sqrt(delta), math.exp(1)))  \n",
    "\n",
    "def rad_penal(N, delta, dvc):\n",
    "    return math.sqrt(2 * math.log(2 * N * (N) ** dvc, math.exp(1)) / N) + math.sqrt(2 / N * math.log(1 / delta, math.exp(1))) + 1 / N\n",
    "\n",
    "\n",
    "def PVB(N, delta, dvc):\n",
    "    a = 1\n",
    "    b = -1 / N * 2\n",
    "    c = -1 / N * math.log(6 * (2*N)**dvc / delta, math.exp(1))\n",
    "    x = (-b + math.sqrt(b**2 - 4*a*c)) / (2 * a)\n",
    "    return x\n",
    "\n",
    "def Devroye(N, delta, dvc):\n",
    "    a = 1 - 2 / N\n",
    "    b = -2 / N\n",
    "    c = -1 / 2 / N * (math.log(4 / delta, math.exp(1)) + 2 * dvc * math.log(N, math.exp(1)))\n",
    "    x = (-b + math.sqrt(b**2 - 4*a*c)) / (2 * a)\n",
    "    return x\n",
    "ori = []\n",
    "var = []\n",
    "rad = []\n",
    "pvb = []\n",
    "devroye = []\n",
    "N_range = []\n",
    "for i in range(0, 201):\n",
    "    if i == 0:\n",
    "        N = 5\n",
    "    else:\n",
    "        N = 100 * i\n",
    "    N_range.append(N)\n",
    "    ori.append(ori_vc(N, delta, dvc))\n",
    "    var.append(var_vc(N, delta, dvc))\n",
    "    rad.append(rad_penal(N, delta, dvc))\n",
    "    pvb.append(PVB(N, delta, dvc))\n",
    "    devroye.append(Devroye(N, delta, dvc))\n",
    "    if N == 5:\n",
    "        print(\"Generalization error bounds when N = 5: ori = {0: .4f}, var = {1: .4f}, rad = {2: .4f}, pvb = {3: .4f}, devroye = {4: .4f}\"\\\n",
    "              .format(ori[-1], var[-1], rad[-1], pvb[-1], devroye[-1]))\n",
    "    if N == 10000:\n",
    "        print(\"Generalization error bounds when N = 10000: ori = {0: .4f}, var = {1: .4f}, rad = {2: .4f}, pvb = {3: .4f}, devroye = {4: .4f}\"\\\n",
    "              .format(ori[-1], var[-1], rad[-1], pvb[-1], devroye[-1]))\n",
    "\n",
    "plt.title('Bounds for generalization error')\n",
    "\n",
    "plt.plot(N_range, ori, color='green', label='ori')\n",
    "plt.plot(N_range, var, color='red', label='var')\n",
    "plt.plot(N_range, rad, color='yellow', label='rad')\n",
    "plt.plot(N_range, pvb, color='blue', label='pvb')\n",
    "plt.plot(N_range, devroye, color='black', label='devroye')\n",
    "\n",
    "plt.legend()\n",
    "\n",
    "plt.show()"
   ]
  },
  {
   "cell_type": "markdown",
   "metadata": {},
   "source": [
    "$\\quad$ As you can see, when N = 10000, the tightest bound is 0.2152 and the generalization error is Devroye."
   ]
  },
  {
   "cell_type": "markdown",
   "metadata": {},
   "source": [
    "5.  \n",
    "As you can see, when N = 5, the tightest bound is 5.1014 and the generalization error is Parrondo."
   ]
  },
  {
   "cell_type": "markdown",
   "metadata": {},
   "source": [
    "![p6](./hw2_6_11.png)"
   ]
  },
  {
   "cell_type": "markdown",
   "metadata": {},
   "source": [
    "6.  \n",
    "$\\quad m_H(N) \\quad for \\quad positive \\quad interval \\,= ((N + N - 1 + \\cdots + 1) + 1  = \\frac {N^ 2 + N} {2} + 1 $  \n",
    "But for positive and negtive interval, we should only count $N^2 + N$ minus repetitions when the right side of the interval is the at the beginning of the numbers like:  \n",
    "$x o o o o x o o o$   \n",
    "$\\, o o o o x o o o x$, where x represents the right or left side of the interval  \n",
    "There are $(N - 1)\\times 2$ repetitions, so $\\, \\,m_H(N) \\quad for \\quad positive \\quad negtive \\quad interval \\,= N^2 - N + 2 $"
   ]
  },
  {
   "cell_type": "markdown",
   "metadata": {},
   "source": [
    "7.  \n",
    "When $N = 1, m_H(N) = 2 = 2^1$, when $N = 2, m_H(N) = 4 = 2^2$, whe $N = 3, m_H(N) = 8 = 2^3$, when $N = 4, m_H(N) = 14 != 2^4$, so the VC-dimension is 3"
   ]
  },
  {
   "cell_type": "markdown",
   "metadata": {},
   "source": [
    "8. The problem is actually the same as positive interval, so $m_H(N) = \\frac {N^2 + N}{2} + 1$"
   ]
  },
  {
   "cell_type": "markdown",
   "metadata": {},
   "source": [
    "9. The hypothesis is PLA, so the VC-dimesion is D + 1 as mentioned in class"
   ]
  },
  {
   "cell_type": "markdown",
   "metadata": {},
   "source": [
    "10. Using vector t, I can classify no more than $2^d$ vectors of $R^d$ into different $\\{0, 1\\}^d$, and for any vector $\\{0, 1\\}^d$, we can determine its value by including itself into S, so we can shatter these $2^d$ vectors, if there exists another vector $X_t$, then there must exist $V_k = V_t$, then the valuse of $X_t$ must be the same as $X_k$, so we cannot shatter more than $2^d$ vectors, so the VC-dimension is $2^d$"
   ]
  },
  {
   "cell_type": "markdown",
   "metadata": {},
   "source": [
    "11. "
   ]
  },
  {
   "cell_type": "code",
   "execution_count": 3,
   "metadata": {},
   "outputs": [
    {
     "data": {
      "image/png": "[encoded data removed]",
      "text/plain": [
       "<matplotlib.figure.Figure at 0x7f88da78f160>"
      ]
     },
     "metadata": {},
     "output_type": "display_data"
    }
   ],
   "source": [
    "start = -10\n",
    "x = [-10]\n",
    "y = [-1]\n",
    "alpha = 2\n",
    "for i in range(200):\n",
    "    start += 0.1\n",
    "    x.append(start)\n",
    "    y.append(((abs(alpha * start % 4 - 2) - 1) > 0) * 2 - 1)\n",
    "plt.plot(x, y)\n",
    "plt.show()"
   ]
  },
  {
   "cell_type": "markdown",
   "metadata": {},
   "source": [
    "The hypothesis is a periodic function and the period is $\\large \\frac {\\alpha}{2}$, it can shatter any number of x by controling $\\alpha$, so the VC-dimension is $\\infty$"
   ]
  },
  {
   "cell_type": "markdown",
   "metadata": {},
   "source": [
    "![p12](./hw2_12_15.png)"
   ]
  },
  {
   "cell_type": "markdown",
   "metadata": {},
   "source": [
    "12.  "
   ]
  },
  {
   "cell_type": "markdown",
   "metadata": {},
   "source": [
    "proof:  \n",
    "If $N = d_{vc}$, then $2^im_H(N - i) = 2^i2^{N - i} = 2^N$, so $\\underset {1<=i<=N-1}{min} 2^im_H(N - i)= 2^N = m_H(N) = 2^N$   \n",
    "if $N > d_{vc}$, then $\\underset {1<=i<=N-1}{min} 2^im_H(N - i)= 2m_H(N - 1) > m_H(N)$"
   ]
  },
  {
   "cell_type": "markdown",
   "metadata": {},
   "source": [
    "13."
   ]
  },
  {
   "cell_type": "markdown",
   "metadata": {},
   "source": [
    "No  \n",
    "proof:  \n",
    "When $N = 1$, $m_H(N) = 2^1$, when $N = 2, m_H(N) = 2^1 != 2^2$, so the break point is $k = 2$, the hypothesis cannot shatter any 2 points. Since we cannot shatter any two points, when $N = 3$, one possible situation is:  \n",
    "OXX  \n",
    "XXX  \n",
    "However, when $N = 4$, $m_H(N) = 2^2 = 4$, then the combinations are:  \n",
    "OXXX\n",
    "XXXX\n",
    "OXXO\n",
    "XXXO  \n",
    "which has shattered two pints, contradiction!"
   ]
  },
  {
   "cell_type": "markdown",
   "metadata": {},
   "source": [
    "14. "
   ]
  },
  {
   "cell_type": "markdown",
   "metadata": {},
   "source": [
    "The assumption is right\n",
    "proof:  \n",
    "if $\\bigcap\\limits_{k=1}^{K}H_k$ is empty set, then $d_{vc}(\\bigcap\\limits_{k=1}^{K}H_k) = 0>=0$  \n",
    "else, beacuse $(\\bigcap\\limits_{k=1}^{K}H_k) \\subset H_k \\,\\,for \\,\\,k = 1, 2, \\cdots, K$, so $d_{vc}(\\bigcap\\limits_{k=1}^{K}H_k) <= d_{vc}(H_k) \\,\\, for \\,\\, k = 1, 2, \\cdots, K$, so the inequality holds "
   ]
  },
  {
   "cell_type": "markdown",
   "metadata": {},
   "source": [
    "15. "
   ]
  },
  {
   "cell_type": "markdown",
   "metadata": {},
   "source": [
    "proof:  \n",
    "The left side is obvious. For the right side, first prove:  \n",
    "$$d_{vc}(H_1 \\bigcup H_2) <= 1 + d_{vc}(H_1) + d_{vc}(H_2)$$\n",
    "Obviously:  \n",
    "$$m_{H_1\\bigcup H_2}(N) <= m_{H_1}(N) + m_{H_2}(N) <= \\sum_{i = 0}^{d_{vc}(H_1)}C(N, i) + \\sum_{i = 0}^{d_{vc}(H_2)}C(N, i) = \\sum_{i = 0}^{d_{vc}(H_1)}C(N, i) + \\sum_{i = N - d_{vc}(H_2)}^{{N}}C(N, i)$$\n",
    "When $N = 1 + d_{vc}(H_1) + d_{vc}(H_2)$:  \n",
    "$$m_{H_1\\bigcup H_2}(N) <= \\sum_{i = 0}^{d_{vc}(H_1)}C(N, i) + \\sum_{i = d_{vc}(H_1) + 1}^{{N}}C(N, i) = 2^N$$  \n",
    "when $N = 2 + d_{vc}(H_1) + d_{vc}(H_2)$:  \n",
    "$$m_{H_1\\bigcup H_2}(N) <= \\sum_{i = 0}^{d_{vc}(H_1)}C(N, i) + \\sum_{i = d_{vc}(H_1) + 2}^{{N}}C(N, i) = 2^N - C(N, d_{vc}(H_1) + 1) < 2^N$$  \n",
    "So the break point k for $H_1 \\bigcup H_2$ is $k <= 2 + d_{vc}(H_1) + d_{vc}(H_2)$, then it's easy to prove that:  \n",
    "$$d_{vc}(\\bigcup\\limits_{k = 1}^{K} H_k) <= K - 1 + \\sum_{k = 1}^{K}d_{vc}(H_k)$$"
   ]
  },
  {
   "cell_type": "markdown",
   "metadata": {},
   "source": [
    "![p16](./hw2_16_17.png)"
   ]
  },
  {
   "cell_type": "markdown",
   "metadata": {},
   "source": [
    "16.  "
   ]
  },
  {
   "cell_type": "markdown",
   "metadata": {},
   "source": [
    "$\\mu = P(\\, h_{s, \\theta}(x) != s(x)) = \\large\\frac{(1 - s + s(|\\theta|)}{2}$  \n",
    "$E_{out}(h_s, \\theta) = \\mu\\lambda + (1 - \\mu)(1 - \\lambda) = 0.5 - 0.3s + 0.3s|\\theta|$"
   ]
  },
  {
   "cell_type": "markdown",
   "metadata": {},
   "source": [
    "17. "
   ]
  },
  {
   "cell_type": "code",
   "execution_count": 4,
   "metadata": {},
   "outputs": [
    {
     "name": "stdout",
     "output_type": "stream",
     "text": [
      "The average Ein is: 0.1701\n"
     ]
    },
    {
     "data": {
      "image/png": "[encoded data removed]",
      "text/plain": [
       "<matplotlib.figure.Figure at 0x7f88b1ca6400>"
      ]
     },
     "metadata": {},
     "output_type": "display_data"
    }
   ],
   "source": [
    "dataset_size = 20\n",
    "\n",
    "def generate_data(dataset_size, random_seed):\n",
    "    np.random.seed(random_seed)\n",
    "    X = list(np.random.uniform(-1, 1, size = dataset_size))\n",
    "    X.sort()\n",
    "    Theta = []\n",
    "    for i in range(dataset_size):\n",
    "        if i == 0:\n",
    "            Theta.append(-1)\n",
    "        else:\n",
    "            Theta.append((X[i - 1] + X[i]) / 2)\n",
    "    \n",
    "    noise = list(np.random.uniform(0, 1, size = dataset_size))\n",
    "    Y = []\n",
    "    for i in range(dataset_size):\n",
    "        Y.append((X[i] > 0) * 2 - 1)\n",
    "        if noise[i] < 0.2:\n",
    "            Y[i] = -Y[i]\n",
    "    return X, Theta, Y\n",
    "\n",
    "\n",
    "\n",
    "def compute_Ein(theta, s, X, Y):\n",
    "    Ein = 0\n",
    "    for i in range(dataset_size):\n",
    "        if s * (X[i] - theta) * Y[i] <= 0:\n",
    "            Ein += 1\n",
    "    return Ein / dataset_size\n",
    "\n",
    "def compute_Eout(theta, s):\n",
    "    return 0.5 - 0.3 * s + 0.3 * s * abs(theta)\n",
    "\n",
    "Ein_array = []\n",
    "Eout_array = []\n",
    "for i in range(5000):\n",
    "    X, Theta, Y = generate_data(dataset_size, i)\n",
    "    s = 1\n",
    "    Ein_min = compute_Ein(Theta[0], s, X, Y)\n",
    "    best_theta_index = 0\n",
    "    best_s = 1\n",
    "    for i in range(1, dataset_size):\n",
    "        Ein = compute_Ein(Theta[i], s, X, Y)\n",
    "        if Ein < Ein_min:\n",
    "            Ein_min = Ein\n",
    "            best_theta_index = i\n",
    "    s = -1\n",
    "    for i in range(0, dataset_size):\n",
    "        Ein = compute_Ein(Theta[i], s, X, Y)\n",
    "        if Ein < Ein_min:\n",
    "            Ein_min = Ein\n",
    "            best_theta_index = i\n",
    "            best_s = -1\n",
    "    Ein_array.append(Ein_min)\n",
    "    Eout_array.append(compute_Eout(Theta[best_theta_index], best_s))\n",
    "\n",
    "    \n",
    "print(\"The average Ein is:\", round(sum(Ein_array) / 5000, 4))\n",
    "bins = [i * 0.05 for i in range(21)]\n",
    "plt.hist(Ein_array, bins)\n",
    "plt.title(\"Ein histogram\")\n",
    "plt.show()"
   ]
  },
  {
   "cell_type": "markdown",
   "metadata": {},
   "source": [
    "18. "
   ]
  },
  {
   "cell_type": "code",
   "execution_count": 5,
   "metadata": {},
   "outputs": [
    {
     "name": "stdout",
     "output_type": "stream",
     "text": [
      "The average Eout is: 0.2533\n"
     ]
    },
    {
     "data": {
      "image/png": "[encoded data removed]",
      "text/plain": [
       "<matplotlib.figure.Figure at 0x7f88b1cfd320>"
      ]
     },
     "metadata": {},
     "output_type": "display_data"
    }
   ],
   "source": [
    "print(\"The average Eout is:\", round(sum(Eout_array) / 5000, 4))\n",
    "plt.hist(Eout_array, bins)\n",
    "plt.title(\"Eout histogram\")\n",
    "plt.show()"
   ]
  },
  {
   "cell_type": "markdown",
   "metadata": {},
   "source": [
    "![p18](./hw2_18_20.png)"
   ]
  },
  {
   "cell_type": "markdown",
   "metadata": {},
   "source": [
    "19.  "
   ]
  },
  {
   "cell_type": "code",
   "execution_count": 57,
   "metadata": {},
   "outputs": [
    {
     "name": "stdout",
     "output_type": "stream",
     "text": [
      "index = 3 , Ein_min = 0.25 , theta = 1.6175 , s = -1\n"
     ]
    }
   ],
   "source": [
    "train_data = np.loadtxt('hw2_train.txt')\n",
    "test_data = np.loadtxt('hw2_test.txt')\n",
    "X_train_array = [[] for i in range((len(train_data[0]) - 1))]\n",
    "Y_train = []\n",
    "X_test_array = [[] for i in range((len(test_data[0]) - 1))]\n",
    "Y_test = []\n",
    "\n",
    "\n",
    "for i in range(len(train_data)):\n",
    "    for j in range(len(train_data[i]) - 1):\n",
    "        X_train_array[j].append(train_data[i][j])\n",
    "    Y_train.append(train_data[i][-1])\n",
    "for i in range(len(test_data)):\n",
    "    for j in range(len(test_data[i]) - 1):\n",
    "        X_test_array[j].append(test_data[i][j])\n",
    "    Y_test.append(test_data[i][-1])\n",
    "        \n",
    "def generate_Theta(X):\n",
    "    X_sort = sorted(X)\n",
    "    Theta = []\n",
    "    for i in range(len(X_sort)):\n",
    "        if i == 0:\n",
    "            Theta.append(X_sort[0] - 1)\n",
    "        else:\n",
    "            Theta.append((X_sort[i] + X_sort[i - 1]) / 2)\n",
    "    return Theta\n",
    "\n",
    "\n",
    "def generate_Theta_array(X_array):\n",
    "    Theta_array = []\n",
    "    for i in X_array:\n",
    "        Theta_array.append(generate_Theta(i))\n",
    "    return Theta_array\n",
    "\n",
    "def compute_Ein(theta, s, X, Y):\n",
    "    Ein = 0\n",
    "    for i in range(len(X)):\n",
    "        if s * (X[i] - theta) * Y[i] <= 0:\n",
    "            Ein += 1\n",
    "    return Ein / len(X)\n",
    "\n",
    "def compute_Eout(theta, s, X , Y):\n",
    "    Eout = 0\n",
    "    for i in range(len(X)):\n",
    "        if s * (X[i] - theta) * Y[i] <= 0:\n",
    "            Eout += 1\n",
    "    return Eout / len(X)\n",
    "\n",
    "\n",
    "def get_best_hypothesis(Theta, X, Y):\n",
    "    s_best = 1\n",
    "    s = 1\n",
    "    theta_best = Theta[0]\n",
    "    Ein = compute_Ein(Theta[0], s, X, Y)\n",
    "    for i in range(1, len(Theta)):\n",
    "        Ein_temp = compute_Ein(Theta[i], s, X, Y)\n",
    "        if Ein > Ein_temp:\n",
    "            Ein = Ein_temp\n",
    "            theta_best = Theta[i]\n",
    "    s = -1\n",
    "    for i in range(0, len(Theta)):\n",
    "        Ein_temp = compute_Ein(Theta[i], s, X, Y)\n",
    "        if Ein > Ein_temp:\n",
    "            Ein = Ein_temp\n",
    "            theta_best = Theta[i]\n",
    "            s_best = -1\n",
    "    return Ein, theta_best, s_best\n",
    "\n",
    "def get_best_of_best_hypothesis(Theta_array, X_array, Y):\n",
    "    hypo_array = []\n",
    "    Ein_min = 10000\n",
    "    best_hypo = 0\n",
    "    for i in range(len(Theta_array)):\n",
    "        Ein, theta_best, s_best = get_best_hypothesis(Theta_array[i], X_array[i], Y)\n",
    "        hypo_array.append([Ein, theta_best, s_best])\n",
    "        if Ein < Ein_min :\n",
    "            Ein_min = Ein\n",
    "            best_hypo = i\n",
    "    return best_hypo, hypo_array[best_hypo]\n",
    "\n",
    "Theta_array = generate_Theta_array(X_train_array)\n",
    "\n",
    "index, [Ein_min, theta_best, s_best] = get_best_of_best_hypothesis(Theta_array, X_train_array, Y_train)\n",
    "print(\"index =\", index, \", Ein_min =\", Ein_min, \", theta =\", theta_best, \", s =\", s_best)"
   ]
  },
  {
   "cell_type": "markdown",
   "metadata": {},
   "source": [
    "Ein is about 0.25 when theta = 1.6175, s = -1 on 3th dimension"
   ]
  },
  {
   "cell_type": "markdown",
   "metadata": {},
   "source": [
    "20.  "
   ]
  },
  {
   "cell_type": "code",
   "execution_count": 58,
   "metadata": {},
   "outputs": [
    {
     "name": "stdout",
     "output_type": "stream",
     "text": [
      "Eout on test data = 0.355\n"
     ]
    }
   ],
   "source": [
    "Eout_test = compute_Eout(theta_best, s_best, X_test_array[index], Y_test)\n",
    "print(\"Eout on test data =\", Eout_test)"
   ]
  },
  {
   "cell_type": "markdown",
   "metadata": {},
   "source": [
    "![p21](hw2_21.png)"
   ]
  },
  {
   "cell_type": "markdown",
   "metadata": {},
   "source": [
    "21."
   ]
  },
  {
   "cell_type": "markdown",
   "metadata": {},
   "source": [
    "proof:  \n",
    "$B(N,k)$ means the set of dichotomies cannot shatter any k variables but can shatter some k variables. So we can construct a specific set of dichotomies which can shatter any f variables where $f <= k - 1$. The number of dichotomies is:  \n",
    "$$\\sum_0^{k - 1}C(N, i)$$"
   ]
  }
 ],
 "metadata": {
  "kernelspec": {
   "display_name": "Python 3",
   "language": "python",
   "name": "python3"
  },
  "language_info": {
   "codemirror_mode": {
    "name": "ipython",
    "version": 3
   },
   "file_extension": ".py",
   "mimetype": "text/x-python",
   "name": "python",
   "nbconvert_exporter": "python",
   "pygments_lexer": "ipython3",
   "version": "3.5.2"
  }
 },
 "nbformat": 4,
 "nbformat_minor": 2
}
