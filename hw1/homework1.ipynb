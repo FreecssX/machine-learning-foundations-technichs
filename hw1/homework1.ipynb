{
 "cells": [
  {
   "cell_type": "code",
   "execution_count": 1,
   "metadata": {},
   "outputs": [],
   "source": [
    "import math\n",
    "def C(n, k):\n",
    "    return math.factorial(n) // (math.factorial(k) * math.factorial(n - k))"
   ]
  },
  {
   "cell_type": "markdown",
   "metadata": {},
   "source": [
    "# <center>Homework \\#1</center>"
   ]
  },
  {
   "cell_type": "markdown",
   "metadata": {},
   "source": [
    "![p1](.\\hw1_1.png)"
   ]
  },
  {
   "cell_type": "markdown",
   "metadata": {},
   "source": [
    "My solution:  \n",
    "(i) is wrong because there is a simple rule to classify numbers into primes and non-primes  \n",
    "(ii) is true because there exists some pattern that shows potential fraud but hard to find a specific rule to program, and there is much data can feed into the learning algorithm  \n",
    "(iii) is false because it's a physics problem and can be solved by rules  \n",
    "(iv) is true because the traffic situation contains some pattern but hard to detect by human eyes and thus machine learning can help  \n",
    "(v) is true since it's a cluster problem"
   ]
  },
  {
   "cell_type": "markdown",
   "metadata": {},
   "source": [
    "![p2](.\\hw1_2_5.png)"
   ]
  },
  {
   "cell_type": "markdown",
   "metadata": {},
   "source": [
    "My solution:\n",
    "2. Reinforcement learning. The feedback is the punishment to force the learning algorithm choice better strategies  \n",
    "3. Unsupervised learning. No labels, it's clustering  \n",
    "4. Supervised learning. With labels of with-face or without-face.  \n",
    "5. Active learning. Since it's selective so there are some 'asking' to know whether the experiment goes well.  "
   ]
  },
  {
   "cell_type": "markdown",
   "metadata": {},
   "source": [
    "![p6](.\\hw1_6_8.png)"
   ]
  },
  {
   "cell_type": "markdown",
   "metadata": {},
   "source": [
    "My solution:  \n",
    "6. proof:  \n",
    "if $N$ and $L$ are both odd: \n",
    "$E_{OTS}(g,f) = \\frac{1}{L}(\\frac{L - 1}{2} + 1)$  \n",
    "if $N$ and $L$ are both even: \n",
    "$E_{OTS}(g,f) = \\frac{1}{L}(\\frac{L}{2})$  \n",
    "if $N$ is odd and $L$ is even: \n",
    "$E_{OTS}(g,f) = \\frac{1}{L}(\\frac{L}{2})$  \n",
    "if $N$ is even and $L$ is odd: \n",
    "$E_{OTS}(g,f) = \\frac{1}{L}(\\frac{L - 1}{2})$  \n",
    "\n",
    "7. proof:  \n",
    "There are $2^L$ possible $f: X \\rightarrow Y$, so there are $2^L$ target functions that generate D but not sure about the data outside D  \n",
    "8. proof:  \n",
    "E$_f\\{E_{OTS}(A_1(D),f)\\} = \\frac{1}{2^L}\\sum_{i=1}^{2^L}(0 + C(L, 1) + \\cdots + C(L, L))$, which has nothing to do with $A_1$, so is E$_f\\{E_{OTS}(A_2(D),f)\\}= \\frac{1}{2^L}\\sum_{i=1}^{2^L}(0 + C(L, 1) + \\cdots + C(L, L))$, so they are equal."
   ]
  },
  {
   "cell_type": "markdown",
   "metadata": {},
   "source": [
    "![p2](.\\hw1_9_12.png)"
   ]
  },
  {
   "cell_type": "markdown",
   "metadata": {},
   "source": [
    "My solution:  \n",
    "9. The probability of $\\mu = 0.5$ is saying the probability that 5 marbles in the 10 marbles are orange and the others are green. So:  \n",
    "$$P(\\nu = 0.5) = {C(10,5)}\\times{0.5^{10}} \\approx 0.246$$   \n",
    "\n",
    "\n",
    "10. \n",
    "$$P(\\nu = 0.9) = {C(10,9)}\\times{0.9^9}\\times{0.1^1} \\approx 0.387$$  \n",
    "\n",
    "\n",
    "11. \n",
    "$$P(\\nu <= 0.1) = P(\\nu = 0.1) + P(\\nu = 0) \\\\ = {C(10,1)}\\times{0.9^1}\\times{0.1^9}  + C(10, 0)\\times{0.1^10}\\approx {9.1\\times{10^{-9}}}$$    \n",
    "\n",
    "\n",
    "12. $$P(\\nu <= 0.1) < P(|\\mu - \\nu| >=0.8) <= 2 e^{-2\\times10\\times{0.8}^2} \\approx 5.52\\times10^{-6}$$\n"
   ]
  },
  {
   "cell_type": "markdown",
   "metadata": {},
   "source": [
    "![p2](.\\hw1_13_14.png)"
   ]
  },
  {
   "cell_type": "markdown",
   "metadata": {},
   "source": [
    "My solution:  \n",
    "13. Let $P(X = B \\,or\\, X = C) = \\frac{1}{2}$ be the probability of get one orange 1. Then the probability of getting five orange 1's is:  \n",
    "$$(\\frac{1}{2}) ^ 5 = \\frac{1}{32}$$  \n",
    "\n",
    "14. To get \"some number\" that is purely orange, we should get (B,C) or (A,D) or (A,C) or (D,B), the total combinations is:  \n",
    "$$2^5\\times4 - 4 = 124$$ (we count (BBBBB)(CCCCC)(AAAAA)(DDDDD) for twice so we need to subtract 4)  \n",
    "So the probability to get \"some\" number that is purely orange is:  \n",
    "$$\\frac{124}{4^5} = \\frac{31}{256}$$"
   ]
  },
  {
   "cell_type": "markdown",
   "metadata": {},
   "source": [
    "![p2](.\\hw1_15_17.png)"
   ]
  },
  {
   "cell_type": "markdown",
   "metadata": {},
   "source": [
    "15. "
   ]
  },
  {
   "cell_type": "code",
   "execution_count": 2,
   "metadata": {},
   "outputs": [
    {
     "name": "stdout",
     "output_type": "stream",
     "text": [
      "45 135\n"
     ]
    }
   ],
   "source": [
    "import numpy as np\n",
    "import scipy\n",
    "import matplotlib\n",
    "train_data = np.loadtxt('hw1_15_train.txt') \n",
    "#print(train_data)\n",
    "num_update = 0\n",
    "is_update = True\n",
    "w = np.array([0., 0., 0., 0., 0.])\n",
    "last_update_index = 0\n",
    "while is_update:\n",
    "    is_update = False\n",
    "    for i in range(len(train_data)):\n",
    "        xi = np.append(1, train_data[i][:-1])\n",
    "        yi = train_data[i][-1]\n",
    "        if xi.dot(w) * (yi) <= 0:\n",
    "            w = w + yi * xi\n",
    "            is_update = True\n",
    "            num_update += 1\n",
    "            last_update_index = i\n",
    "\n",
    "print(num_update, last_update_index)"
   ]
  },
  {
   "cell_type": "markdown",
   "metadata": {},
   "source": [
    "As you can see, the number of updates before the algorithm halts is 45 and the index of the example that results in the \"last\" mistake is 135"
   ]
  },
  {
   "cell_type": "markdown",
   "metadata": {},
   "source": [
    "16."
   ]
  },
  {
   "cell_type": "code",
   "execution_count": 4,
   "metadata": {},
   "outputs": [
    {
     "name": "stdout",
     "output_type": "stream",
     "text": [
      "average number of updates: 39.861\n"
     ]
    },
    {
     "data": {
      "image/png": "[encoded data removed]",
      "text/plain": [
       "<matplotlib.figure.Figure at 0x7fe72075c4a8>"
      ]
     },
     "metadata": {},
     "output_type": "display_data"
    }
   ],
   "source": [
    "import numpy as np\n",
    "import matplotlib.pyplot as plt\n",
    "train_data = np.loadtxt('hw1_15_train.txt')\n",
    "num_data = len(train_data)\n",
    "total_update_num = 0\n",
    "num_update_array = []\n",
    "bins = list(range(0, 41, 2))\n",
    "for i in range(2000):\n",
    "    np.random.seed(i)\n",
    "    cycle = np.arange(num_data)\n",
    "    np.random.shuffle(cycle)\n",
    "    is_update = True\n",
    "    w = np.array([0., 0., 0., 0., 0.])\n",
    "    num_update = 0\n",
    "    while is_update:\n",
    "        is_update = False\n",
    "        for i in cycle:\n",
    "            xi = np.append(1, train_data[i][:-1])\n",
    "            yi = train_data[i][-1]\n",
    "            if xi.dot(w) * (yi) <= 0:\n",
    "                w = w + yi * xi\n",
    "                is_update = True\n",
    "                total_update_num += 1\n",
    "                num_update += 1\n",
    "    num_update_array.append(num_update)\n",
    "average_update_num = total_update_num / 2000\n",
    "print('average number of updates:', average_update_num)\n",
    "plt.hist(num_update_array, bins)\n",
    "plt.title('histogram')\n",
    "plt.show()"
   ]
  },
  {
   "cell_type": "markdown",
   "metadata": {},
   "source": [
    "As you can see, the average number of updates before the algorithm halts is 39.816, and the histogram is shown above"
   ]
  },
  {
   "cell_type": "markdown",
   "metadata": {},
   "source": [
    "17. "
   ]
  },
  {
   "cell_type": "code",
   "execution_count": 5,
   "metadata": {},
   "outputs": [
    {
     "name": "stdout",
     "output_type": "stream",
     "text": [
      "39.861\n"
     ]
    },
    {
     "data": {
      "image/png": "[encoded data removed]",
      "text/plain": [
       "<matplotlib.figure.Figure at 0x7fe7113e6080>"
      ]
     },
     "metadata": {},
     "output_type": "display_data"
    }
   ],
   "source": [
    "import numpy as np\n",
    "import matplotlib.pyplot as plt\n",
    "train_data = np.loadtxt('hw1_15_train.txt')\n",
    "num_data = len(train_data)\n",
    "total_update_num = 0\n",
    "num_update_array = []\n",
    "bins = list(range(0, 41, 2))\n",
    "eta = 0.5\n",
    "for i in range(2000):\n",
    "    np.random.seed(i)\n",
    "    cycle = np.arange(num_data)\n",
    "    np.random.shuffle(cycle)\n",
    "    is_update = True\n",
    "    w = np.array([0., 0., 0., 0., 0.])\n",
    "    num_update = 0\n",
    "    while is_update:\n",
    "        is_update = False\n",
    "        for i in cycle:\n",
    "            xi = np.append(1, train_data[i][:-1])\n",
    "            yi = train_data[i][-1]\n",
    "            if xi.dot(w) * (yi) <= 0:\n",
    "                w = w + eta * yi * xi\n",
    "                is_update = True\n",
    "                total_update_num += 1\n",
    "                num_update += 1\n",
    "    num_update_array.append(num_update)\n",
    "average_update_num = total_update_num / 2000\n",
    "print(average_update_num)\n",
    "plt.hist(num_update_array, bins)\n",
    "plt.title('histogram')\n",
    "plt.show()"
   ]
  },
  {
   "cell_type": "markdown",
   "metadata": {},
   "source": [
    "As you can see, the result of problem 17 is the same as problem 16, one of my assumptions is that:  \n",
    "$$1>={\\large\\frac {w_fw}{||w_f||\\,\\,||w||}} >= {\\large\\frac{\\eta T(y_nwf^Tx_n)_{min}}{||w_f||\\eta\\sqrt{T}||(x_n)_{max}||} = \\frac{ T(y_nwf^Tx_n)_{min}}{||w_f||\\sqrt{T}||(x_n)_{max}||}} = \\sqrt TC$$  \n",
    "C is a const, the bound for the number of updates has nothing to do with $\\eta$"
   ]
  },
  {
   "cell_type": "markdown",
   "metadata": {},
   "source": [
    "![p18](.\\hw1_18_20.png)"
   ]
  },
  {
   "cell_type": "markdown",
   "metadata": {},
   "source": [
    "18. "
   ]
  },
  {
   "cell_type": "code",
   "execution_count": 6,
   "metadata": {},
   "outputs": [
    {
     "name": "stdout",
     "output_type": "stream",
     "text": [
      "average error rate: 0.1284999999999995\n"
     ]
    },
    {
     "data": {
      "image/png": "[encoded data removed]",
      "text/plain": [
       "<matplotlib.figure.Figure at 0x7fe70692fc50>"
      ]
     },
     "metadata": {},
     "output_type": "display_data"
    }
   ],
   "source": [
    "import numpy as np\n",
    "import matplotlib.pyplot as plt\n",
    "train_data = np.loadtxt('hw1_18_train.txt')\n",
    "test_data = np.loadtxt('hw1_18_test.txt')\n",
    "def ac(w, test_data):\n",
    "    test_data_num = len(test_data)\n",
    "    right_result = 0\n",
    "    for i in range(test_data_num):\n",
    "        xi = np.append(1, test_data[i][:-1])\n",
    "        yi = test_data[i][-1]\n",
    "        if w.dot(xi) * yi > 0:\n",
    "            right_result += 1\n",
    "    return right_result / test_data_num\n",
    "def pocket_pla(train_data, test_data, seed_index, iteration):\n",
    "    data_num = len(train_data)\n",
    "    cycle = np.arange(data_num)\n",
    "    np.random.seed(seed_index)\n",
    "    np.random.shuffle(cycle)\n",
    "    index = 0\n",
    "    iter_num = 0\n",
    "    w = np.array([0.,0.,0.,0.,0.])\n",
    "    w_temp = np.array([0., 0., 0., 0., 0.])\n",
    "    accuracy = ac(w, train_data)\n",
    "    index = 0\n",
    "    while iter_num < iteration:\n",
    "        xi = np.append(1, train_data[cycle[index]][:-1])\n",
    "        yi = train_data[cycle[index]][-1]\n",
    "        if w_temp.dot(xi) * yi <=0:\n",
    "            w_temp = w_temp + yi * xi\n",
    "            iter_num += 1\n",
    "            accuracy_temp = ac(w_temp, train_data)\n",
    "            if accuracy < accuracy_temp:\n",
    "                w = w_temp + np.array([0., 0., 0., 0., 0.])\n",
    "                accuracy = accuracy_temp\n",
    "        index += 1\n",
    "        if index == data_num:\n",
    "            index = 0\n",
    "    return ac(w, test_data)\n",
    "average_accuracy = 0\n",
    "accuracy_array = []\n",
    "for i in range(100):\n",
    "    accuracy_temp = pocket_pla(train_data, test_data, i, 50)\n",
    "    average_accuracy += accuracy_temp\n",
    "    accuracy_array.append(1 - accuracy_temp)\n",
    "average_accuracy = average_accuracy / 100\n",
    "print(\"average error rate:\", 1 - average_accuracy)\n",
    "bins = [0.05 * i for i in range(20)]\n",
    "plt.hist(accuracy_array, bins)\n",
    "plt.title('histogram')\n",
    "plt.show()"
   ]
  },
  {
   "cell_type": "markdown",
   "metadata": {},
   "source": [
    "Since the speed of python is a big concern, I only ran 100 iterations. The average error rate for pocket_pla is 0.1285"
   ]
  },
  {
   "cell_type": "markdown",
   "metadata": {},
   "source": [
    "19. "
   ]
  },
  {
   "cell_type": "code",
   "execution_count": 7,
   "metadata": {},
   "outputs": [
    {
     "name": "stdout",
     "output_type": "stream",
     "text": [
      "average error rate: 0.34596000000000005\n"
     ]
    },
    {
     "data": {
      "image/png": "[encoded data removed]",
      "text/plain": [
       "<matplotlib.figure.Figure at 0x7fe7113cdac8>"
      ]
     },
     "metadata": {},
     "output_type": "display_data"
    }
   ],
   "source": [
    "import numpy as np\n",
    "import matplotlib.pyplot as plt\n",
    "train_data = np.loadtxt('hw1_18_train.txt')\n",
    "test_data = np.loadtxt('hw1_18_test.txt')\n",
    "def ac(w, test_data):\n",
    "    test_data_num = len(test_data)\n",
    "    right_result = 0\n",
    "    for i in range(test_data_num):\n",
    "        xi = np.append(1, test_data[i][:-1])\n",
    "        yi = test_data[i][-1]\n",
    "        if w.dot(xi) * yi > 0:\n",
    "            right_result += 1\n",
    "    return right_result / test_data_num\n",
    "def pla(train_data, test_data, seed_index, iteration):\n",
    "    data_num = len(train_data)\n",
    "    cycle = np.arange(data_num)\n",
    "    np.random.seed(seed_index)\n",
    "    np.random.shuffle(cycle)\n",
    "    index = 0\n",
    "    iter_num = 0\n",
    "    w = np.array([0.,0.,0.,0.,0.])\n",
    "    index = 0\n",
    "    while iter_num < iteration:\n",
    "        for i in range(data_num):\n",
    "            xi = np.append(1, train_data[cycle[i]][:-1])\n",
    "            yi = train_data[cycle[i]][-1]\n",
    "            if w.dot(xi) * yi <=0:\n",
    "                w = w + yi * xi\n",
    "                iter_num += 1\n",
    "                if iter_num >= iteration:\n",
    "                    break\n",
    "    return ac(w, test_data)\n",
    "\n",
    "average_accuracy = 0\n",
    "accuracy_array = []\n",
    "for i in range(100):\n",
    "    accuracy_temp = pla(train_data, test_data, i, 50)\n",
    "    average_accuracy += accuracy_temp\n",
    "    accuracy_array.append(1- accuracy_temp)\n",
    "average_accuracy = average_accuracy / 100\n",
    "print(\"average error rate:\", 1 - average_accuracy)\n",
    "bins = [0.05 * i for i in range(20)]\n",
    "plt.hist(accuracy_array, bins)\n",
    "plt.title('histogram')\n",
    "plt.show()"
   ]
  },
  {
   "cell_type": "markdown",
   "metadata": {},
   "source": [
    "The average error rate for pla is 0.3460. Actually, because every time the algorithm finds a vector with a wrong prediction, it updats its w, but it can't promise the improvement of its performance."
   ]
  },
  {
   "cell_type": "markdown",
   "metadata": {},
   "source": [
    "20. "
   ]
  },
  {
   "cell_type": "code",
   "execution_count": 8,
   "metadata": {},
   "outputs": [
    {
     "name": "stdout",
     "output_type": "stream",
     "text": [
      "average error rate: 0.11417999999999962\n"
     ]
    },
    {
     "data": {
      "image/png": "[encoded data removed]",
      "text/plain": [
       "<matplotlib.figure.Figure at 0x7fe7242b5cc0>"
      ]
     },
     "metadata": {},
     "output_type": "display_data"
    }
   ],
   "source": [
    "import numpy as np\n",
    "import matplotlib.pyplot as plt\n",
    "train_data = np.loadtxt('hw1_18_train.txt')\n",
    "test_data = np.loadtxt('hw1_18_test.txt')\n",
    "def ac(w, test_data):\n",
    "    test_data_num = len(test_data)\n",
    "    right_result = 0\n",
    "    for i in range(test_data_num):\n",
    "        xi = np.append(1, test_data[i][:-1])\n",
    "        yi = test_data[i][-1]\n",
    "        if w.dot(xi) * yi > 0:\n",
    "            right_result += 1\n",
    "    return right_result / test_data_num\n",
    "def pocket_pla(train_data, test_data, seed_index, iteration):\n",
    "    data_num = len(train_data)\n",
    "    cycle = np.arange(data_num)\n",
    "    np.random.seed(seed_index)\n",
    "    np.random.shuffle(cycle)\n",
    "    index = 0\n",
    "    iter_num = 0\n",
    "    w = np.array([0.,0.,0.,0.,0.])\n",
    "    w_temp = np.array([0., 0., 0., 0., 0.])\n",
    "    accuracy = ac(w, train_data)\n",
    "    index = 0\n",
    "    while iter_num < iteration:\n",
    "        xi = np.append(1, train_data[cycle[index]][:-1])\n",
    "        yi = train_data[cycle[index]][-1]\n",
    "        if w_temp.dot(xi) * yi <=0:\n",
    "            w_temp = w_temp + yi * xi\n",
    "            iter_num += 1\n",
    "            accuracy_temp = ac(w_temp, train_data)\n",
    "            if accuracy < accuracy_temp:\n",
    "                w = w_temp + np.array([0., 0., 0., 0., 0.])\n",
    "                accuracy = accuracy_temp\n",
    "        index += 1\n",
    "        if index == data_num:\n",
    "            index = 0\n",
    "    return ac(w, test_data)\n",
    "average_accuracy = 0\n",
    "accuracy_array = []\n",
    "for i in range(100):\n",
    "    accuracy_temp = pocket_pla(train_data, test_data, i, 100)\n",
    "    average_accuracy += accuracy_temp\n",
    "    accuracy_array.append(1 - accuracy_temp)\n",
    "average_accuracy = average_accuracy / 100\n",
    "print(\"average error rate:\", 1 - average_accuracy)\n",
    "bins = [0.05 * i for i in range(20)]\n",
    "plt.hist(accuracy_array, bins)\n",
    "plt.title('histogram')\n",
    "plt.show()"
   ]
  },
  {
   "cell_type": "markdown",
   "metadata": {},
   "source": [
    "The result is 0.1142. Inscreasing the number of iterations can improve the performance of the result"
   ]
  },
  {
   "cell_type": "markdown",
   "metadata": {},
   "source": [
    "![p21](.\\hw1_21.png)"
   ]
  },
  {
   "cell_type": "markdown",
   "metadata": {},
   "source": [
    "The plan won't work since:  \n",
    "$$1>={\\large\\frac {w_fw}{||w_f||\\,\\,||w||}} >= \\frac{ T(y_nwf^T\\lambda x_n)_{min}}{||w_f||\\sqrt{T}||\\lambda (x_n)_{max}||} =\\frac{ T(y_nwf^T x_n)_{min}}{||w_f||\\sqrt{T}|| (x_n)_{max}||}= \\sqrt TC$$ \n",
    "This has noting to do with the scale factor $\\lambda$"
   ]
  }
 ],
 "metadata": {
  "kernelspec": {
   "display_name": "Python 3",
   "language": "python",
   "name": "python3"
  },
  "language_info": {
   "codemirror_mode": {
    "name": "ipython",
    "version": 3
   },
   "file_extension": ".py",
   "mimetype": "text/x-python",
   "name": "python",
   "nbconvert_exporter": "python",
   "pygments_lexer": "ipython3",
   "version": "3.5.2"
  }
 },
 "nbformat": 4,
 "nbformat_minor": 2
}
