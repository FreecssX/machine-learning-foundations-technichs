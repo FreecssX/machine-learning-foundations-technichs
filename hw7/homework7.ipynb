{
 "cells": [
  {
   "cell_type": "markdown",
   "metadata": {},
   "source": [
    "# <center>Homework #7</center>"
   ]
  },
  {
   "cell_type": "markdown",
   "metadata": {},
   "source": [
    "![p1](./hw7_1_2.png)"
   ]
  },
  {
   "cell_type": "markdown",
   "metadata": {},
   "source": [
    "1.<br>\n",
    "Since $\\mu_+ + \\mu _- = 1, \\, max(1 - \\mu_+^2 - \\mu_-^2) = 1 - min(\\mu_+^2 + \\mu_-^2) = 1- \\frac{1}{2} = \\frac{1}{2}$"
   ]
  },
  {
   "cell_type": "markdown",
   "metadata": {},
   "source": [
    "2.<br>\n",
    "Squared error = $\\mu_+(1 - (\\mu_+ - \\mu_-))^2 + \\mu_-(-1 - (\\mu_+ - \\mu_-))^2 = 4\\mu_+\\mu_-^2 + 4\\mu_+^2\\mu_- = 4\\mu_+\\mu_-$  \n",
    "Normalized gini index = $2(1 - \\mu_+^2 - \\mu_-^2) = 2(2\\mu_+\\mu_-) = 4\\mu_+\\mu_-$"
   ]
  },
  {
   "cell_type": "code",
   "execution_count": null,
   "metadata": {},
   "outputs": [],
   "source": []
  }
 ],
 "metadata": {
  "kernelspec": {
   "display_name": "Python 3",
   "language": "python",
   "name": "python3"
  },
  "language_info": {
   "codemirror_mode": {
    "name": "ipython",
    "version": 3
   },
   "file_extension": ".py",
   "mimetype": "text/x-python",
   "name": "python",
   "nbconvert_exporter": "python",
   "pygments_lexer": "ipython3",
   "version": "3.5.2"
  }
 },
 "nbformat": 4,
 "nbformat_minor": 2
}
