{
 "cells": [
  {
   "cell_type": "code",
   "execution_count": 34,
   "metadata": {},
   "outputs": [],
   "source": [
    "import numpy as np\n",
    "import matplotlib.pyplot as plt\n",
    "import math"
   ]
  },
  {
   "cell_type": "markdown",
   "metadata": {},
   "source": [
    "# <center>Homework #4</center>"
   ]
  },
  {
   "cell_type": "markdown",
   "metadata": {},
   "source": [
    "![p1](./hw4_1_2_.png)"
   ]
  },
  {
   "cell_type": "markdown",
   "metadata": {},
   "source": [
    "1.<br>\n",
    "The noise will increase. The deterministic noise comes for the reason that the target function is two complicated and the hypothesis we make has difference from it, the simpler they are, the bigger the difference is. If we use a subset of the original H, then we have high probability that we have simpler hypothesis, that increases the deterministic noise "
   ]
  },
  {
   "cell_type": "markdown",
   "metadata": {},
   "source": [
    "2.<br>\n",
    "$H(10, 0, 3) = \\{h|h(x) = \\sum\\limits_{q = 0}^{2}w_qL_q(x)\\} = H_2$, $H(10, 0, 4) = \\{h|h(x) = \\sum\\limits_{q = 0}^{3}w_qL_q(x)\\} = H_3$  \n",
    "So $H(10, 0, 3)\\bigcap H(10,0,4) =  H_2$"
   ]
  },
  {
   "cell_type": "markdown",
   "metadata": {},
   "source": [
    "![p3](./hw4_3_4.png)"
   ]
  },
  {
   "cell_type": "markdown",
   "metadata": {},
   "source": [
    "3.<br>\n",
    "$\\nabla E_{aug}(w) = \\nabla E_{in}(w) + 2\\frac{\\lambda}{N}w$  \n",
    "$w(t+1) = w(t) - \\eta\\nabla E_{aug}(w(t)) = (1 - 2\\frac{\\eta\\lambda}{N})w(t) - \\eta\\nabla E(w(t))$  \n",
    "So $\\alpha = (1 - 2\\frac{\\eta\\lambda}{N})$ and $\\beta = -\\eta$"
   ]
  },
  {
   "cell_type": "markdown",
   "metadata": {},
   "source": [
    "4.<br>\n",
    "The original problem can be viewed as an optimization problem for $E_{in}$:  \n",
    "$$E_{in} = \\frac{1}{N}(Zw - y)^T(Zw - y), s.t. w^Tw <= C$$ \n",
    "the same as solving the equation:  \n",
    "$$-\\nabla E_{in}(w_{reg}) + \\frac{2\\lambda}{N}w_{reg} = 0$$\n",
    "if decrease C (the same as increas $\\lambda$) $w_{lin}^Tw_{lin} <= C$, then $||w_{reg}|| = ||w_{lin}||$  \n",
    "else, $||w_{reg}|| = \\sqrt C$, it decreases  \n",
    "So $||w_{reg}(\\lambda)||$ is a non increasing function"
   ]
  },
  {
   "cell_type": "markdown",
   "metadata": {},
   "source": [
    "![p5](./hw4_5.png)"
   ]
  },
  {
   "cell_type": "markdown",
   "metadata": {},
   "source": [
    "5.<br>\n",
    "For $h_0$, $E_{lvoo}(h_0) = \\frac{1}{3}[1^2 + 0.5^2 + 0.5^2]$  \n",
    "For $h_1$, $E_{lvoo}(h_1) = \\frac{1}{3}[(\\frac{-2}{\\rho - 1})^2 + (\\frac{2}{\\rho + 1})^2 + 1^2]$  \n",
    "Let $E_{lvoo}(h_0) = E_{lvoo}(h_1)$, we get $\\rho = \\sqrt{9 + 4\\sqrt6}$"
   ]
  },
  {
   "cell_type": "markdown",
   "metadata": {},
   "source": [
    "![p_6](./hw4_6_7.png)"
   ]
  },
  {
   "cell_type": "markdown",
   "metadata": {},
   "source": [
    "6.<br>\n",
    "$2^5 + 2^4 + 2^3 + 2^2 = 60$"
   ]
  },
  {
   "cell_type": "markdown",
   "metadata": {},
   "source": [
    "7.<br>\n",
    "The total number of letters sent is:  \n",
    "$$2^5 + 2^4 + 2^3 + 2^2 + 2^1 + 2^0 = 63$$\n",
    "The total cost of sending emails is:\n",
    "$$63 \\times 10 = 630$$\n",
    "Then $1000 - 630 = 370$ NTD can be made"
   ]
  },
  {
   "cell_type": "markdown",
   "metadata": {},
   "source": [
    "![p8](./hw4_8_10.png)"
   ]
  },
  {
   "cell_type": "markdown",
   "metadata": {},
   "source": [
    "8.<br>\n",
    "M = 1"
   ]
  },
  {
   "cell_type": "markdown",
   "metadata": {},
   "source": [
    "9.<br>\n",
    "$P(|E_{out} - E_{in}|>0.01) <= 2 * 1 * exp(-2 * (0.01)^2 * 10000) \\approx 0.2706 $"
   ]
  },
  {
   "cell_type": "markdown",
   "metadata": {},
   "source": [
    "10.<br>\n",
    "The data used to test g is not the same distribution to sent to a(in the real world), the data are actually sifted by a, so to improve a, we should first use a to get customers then use g to kick out unproper cumtomers"
   ]
  },
  {
   "cell_type": "markdown",
   "metadata": {},
   "source": [
    "![p11](./hw4_11_12.png)"
   ]
  },
  {
   "cell_type": "markdown",
   "metadata": {},
   "source": [
    "11.<br>\n",
    "Let $X = \\left [ \\begin {matrix} -x_1^T-  \\\\ \\vdots \\\\   -{x_n}^T-\\end{matrix}\\right ]$, let $y = \\left [ \\begin {matrix} y_1  \\\\ \\vdots \\\\ y_n \\end{matrix}\\right ]$, let $\\tilde X = \\left [ \\begin {matrix}  -\\tilde{x_1}^T- \\\\ \\vdots \\\\  -\\tilde{x_K}^T-\\end{matrix}\\right ]$, let $\\tilde y = \\left [ \\begin {matrix}  \\tilde{y_1} \\\\ \\vdots \\\\ \\tilde {y_K}\\end{matrix}\\right ]$    \n",
    "\n",
    "$E_{in} = \\frac{1}{N+K}[(Xw - y)^T(Xw - y) + (\\tilde Xw - \\tilde y)^T(\\tilde Xw - \\tilde y)] = \\frac{1}{N+K} (w^TX^TXw - 2w^TX^Ty + y^Ty + w^T\\tilde X^T \\tilde Xw - 2w^T\\tilde X^T\\tilde y + \\tilde y^T\\tilde y)$  \n",
    "Let $\\nabla E_{in} = \\frac{2}{N + K}[(X^TX + \\tilde X^T \\tilde X)w -(X^Ty + \\tilde X^T \\tilde y)] = 0$  \n",
    "we get:  \n",
    "$w = (X^TX + \\tilde X^T \\tilde X)^{-1}(X^Ty + \\tilde X^T \\tilde y)$\n"
   ]
  },
  {
   "cell_type": "markdown",
   "metadata": {},
   "source": [
    "12.<br>\n",
    "For $w_{reg}$, $w_{reg}= (X^TX + \\lambda I)^{-1}X^Ty$, comparet with problem 11, we get:  \n",
    "$\\tilde X = \\sqrt \\lambda I$, $\\tilde y = 0$"
   ]
  },
  {
   "cell_type": "markdown",
   "metadata": {},
   "source": [
    "![p_13](./hw4_13_15.png)"
   ]
  },
  {
   "cell_type": "code",
   "execution_count": 55,
   "metadata": {},
   "outputs": [],
   "source": [
    "## load data\n",
    "train_data = np.loadtxt('hw4_train.txt')\n",
    "test_data = np.loadtxt('hw4_test.txt')\n",
    "\n",
    "def generate_data(data):\n",
    "    X = []\n",
    "    Y = []\n",
    "    for i in range(len(data)):\n",
    "        X.append(np.append([1], data[i][:-1]))\n",
    "        Y.append(data[i][-1])\n",
    "    return np.array(X), np.array(Y)\n",
    "X_train, Y_train = generate_data(train_data)\n",
    "X_test, Y_test = generate_data(test_data)\n",
    "\n",
    "def ridge_regression(lam, X_train, Y_train):\n",
    "    A = np.matmul(X_train.T, X_train)\n",
    "    I = np.eye(len(A))\n",
    "    w_reg = np.matmul(np.matmul(np.linalg.inv((A + lam * I)), X_train.T), Y_train)\n",
    "    return w_reg\n",
    "\n",
    "def compute_error(w, X, Y):\n",
    "    predict = np.matmul(X, w)\n",
    "    E = 0\n",
    "    for i in range(len(predict)):\n",
    "        if predict[i] * Y[i] <= 0:\n",
    "            E += 1\n",
    "    return E / len(Y)"
   ]
  },
  {
   "cell_type": "markdown",
   "metadata": {},
   "source": [
    "13.  "
   ]
  },
  {
   "cell_type": "code",
   "execution_count": 31,
   "metadata": {},
   "outputs": [
    {
     "name": "stdout",
     "output_type": "stream",
     "text": [
      "Ein = 0.055 Eout = 0.052\n"
     ]
    }
   ],
   "source": [
    "lam = 11.26\n",
    "w = ridge_regression(lam, X_train, Y_train)\n",
    "Ein = compute_error(w, X_train, Y_train)\n",
    "Eout = compute_error(w, X_test, Y_test)\n",
    "print(\"Ein =\", Ein, \"Eout =\", Eout)"
   ]
  },
  {
   "cell_type": "markdown",
   "metadata": {},
   "source": [
    "14.  "
   ]
  },
  {
   "cell_type": "code",
   "execution_count": 44,
   "metadata": {},
   "outputs": [
    {
     "name": "stdout",
     "output_type": "stream",
     "text": [
      "The minium Ein = 0.015 with lambda = 1e-08 Eout =  0.02\n"
     ]
    },
    {
     "data": {
      "image/png": "[encoded data removed]",
      "text/plain": [
       "<matplotlib.figure.Figure at 0x7fc89ffbaa90>"
      ]
     },
     "metadata": {},
     "output_type": "display_data"
    }
   ],
   "source": [
    "lam_array = [2 - i for i in range(13)]\n",
    "Ein_array = []\n",
    "Eout_array = []\n",
    "\n",
    "w_array = [ridge_regression(10**l, X_train, Y_train) for l in lam_array]\n",
    "min_ein = 1\n",
    "ein_index = 0\n",
    "min_eout = 1\n",
    "eout_index = 0\n",
    "for w_reg in w_array:\n",
    "    Ein_array.append(compute_error(w_reg, X_train, Y_train))\n",
    "    Eout_array.append(compute_error(w_reg, X_test, Y_test))\n",
    "    if min_ein > Ein_array[-1]:\n",
    "        ein_index = len(Ein_array) - 1\n",
    "        min_ein = Ein_array[-1]\n",
    "    if min_eout > Eout_array[-1]:\n",
    "        eout_index = len(Eout_array) - 1\n",
    "        min_eout = Eout_array[-1]\n",
    "print(\"The minium Ein =\", min_ein, \"with lambda =\", 10 ** lam_array[ein_index], \"Eout = \", Eout_array[ein_index])\n",
    "plt.plot(lam_array, Ein_array)\n",
    "plt.title(\"Ein-lambda\")\n",
    "plt.show()\n"
   ]
  },
  {
   "cell_type": "code",
   "execution_count": 45,
   "metadata": {},
   "outputs": [
    {
     "name": "stdout",
     "output_type": "stream",
     "text": [
      "The minium Eout = 0.015 with lambda = 1e-07 Ein = 0.03\n"
     ]
    },
    {
     "data": {
      "image/png": "[encoded data removed]",
      "text/plain": [
       "<matplotlib.figure.Figure at 0x7fc89fff74e0>"
      ]
     },
     "metadata": {},
     "output_type": "display_data"
    }
   ],
   "source": [
    "print(\"The minium Eout =\", min_eout, \"with lambda =\", 10 ** lam_array[eout_index], \"Ein =\", Ein_array[eout_index])\n",
    "plt.plot(lam_array, Eout_array)\n",
    "plt.title(\"Eout-lambda\")\n",
    "plt.show()"
   ]
  },
  {
   "cell_type": "markdown",
   "metadata": {},
   "source": [
    "![p16](./hw4_16_20_.png)"
   ]
  },
  {
   "cell_type": "markdown",
   "metadata": {},
   "source": [
    "16."
   ]
  },
  {
   "cell_type": "code",
   "execution_count": 56,
   "metadata": {},
   "outputs": [
    {
     "name": "stdout",
     "output_type": "stream",
     "text": [
      "The minium Ein = 0.0 with lambda = 1e-08 Eval =  0.05 Eout =  0.025\n"
     ]
    },
    {
     "data": {
      "image/png": "[encoded data removed]",
      "text/plain": [
       "<matplotlib.figure.Figure at 0x7fc89ff32b70>"
      ]
     },
     "metadata": {},
     "output_type": "display_data"
    }
   ],
   "source": [
    "X_val = X_train[120:]\n",
    "X_train_ = X_train[:120]\n",
    "Y_val = Y_train[120:]\n",
    "Y_train_ = Y_train[:120]\n",
    "\n",
    "lam_array = [2 - i for i in range(13)]\n",
    "Ein_array = []\n",
    "Eout_array = []\n",
    "Eval_array = []\n",
    "\n",
    "w_array = [ridge_regression(10**l, X_train_, Y_train_) for l in lam_array]\n",
    "\n",
    "min_ein = 1\n",
    "ein_index = 0\n",
    "min_eval = 1\n",
    "eval_index = 0\n",
    "min_eout = 1\n",
    "eout_index = 0\n",
    "\n",
    "\n",
    "for w_reg in w_array:\n",
    "    Ein_array.append(compute_error(w_reg, X_train_, Y_train_))\n",
    "    Eout_array.append(compute_error(w_reg, X_test, Y_test))\n",
    "    Eval_array.append(compute_error(w_reg, X_val, Y_val))\n",
    "    if min_ein > Ein_array[-1]:\n",
    "        ein_index = len(Ein_array) - 1\n",
    "        min_ein = Ein_array[-1]\n",
    "    if min_eval > Eval_array[-1]:\n",
    "        eval_index = len(Eval_array) - 1\n",
    "        min_eval = Eval_array[-1]\n",
    "    if min_eout > Eout_array[-1]:\n",
    "        eout_index = len(Eout_array) - 1\n",
    "        min_eout = Eout_array[-1]\n",
    "print(\"The minium Ein =\", min_ein, \"with lambda =\", 10 ** lam_array[ein_index], \"Eval = \", Eval_array[ein_index], \"Eout = \", Eout_array[ein_index])\n",
    "plt.plot(lam_array, Ein_array)\n",
    "plt.title(\"Ein-lambda\")\n",
    "plt.show()"
   ]
  },
  {
   "cell_type": "markdown",
   "metadata": {},
   "source": [
    "17."
   ]
  },
  {
   "cell_type": "code",
   "execution_count": 54,
   "metadata": {},
   "outputs": [
    {
     "name": "stdout",
     "output_type": "stream",
     "text": [
      "The minium Eval = 0.0375 with lambda = 1 Ein =  0.03333333333333333 Eout =  0.025\n"
     ]
    },
    {
     "data": {
      "image/png": "[encoded data removed]",
      "text/plain": [
       "<matplotlib.figure.Figure at 0x7fc89fe36048>"
      ]
     },
     "metadata": {},
     "output_type": "display_data"
    }
   ],
   "source": [
    "print(\"The minium Eval =\", min_eval, \"with lambda =\", 10 ** lam_array[eval_index], \"Ein = \", Ein_array[eval_index], \"Eout = \", Eout_array[ein_index])\n",
    "plt.plot(lam_array, Eval_array)\n",
    "plt.title(\"Eval-lambda\")\n",
    "plt.show()"
   ]
  },
  {
   "cell_type": "markdown",
   "metadata": {},
   "source": [
    "18."
   ]
  },
  {
   "cell_type": "code",
   "execution_count": 57,
   "metadata": {},
   "outputs": [
    {
     "name": "stdout",
     "output_type": "stream",
     "text": [
      "Ein = 0.015 Eout = 0.02\n"
     ]
    }
   ],
   "source": [
    "best_lam = 10**(-8)\n",
    "best_w_reg = ridge_regression(best_lam, X_train, Y_train)\n",
    "Ein = compute_error(best_w_reg, X_train, Y_train)\n",
    "Eout = compute_error(best_w_reg, X_test, Y_test)\n",
    "print(\"Ein =\", Ein, \"Eout =\", Eout)"
   ]
  },
  {
   "cell_type": "markdown",
   "metadata": {},
   "source": [
    "19."
   ]
  },
  {
   "cell_type": "code",
   "execution_count": 76,
   "metadata": {},
   "outputs": [
    {
     "name": "stdout",
     "output_type": "stream",
     "text": [
      "The minium Ecv = 0.03 with lambda = 1e-08\n"
     ]
    },
    {
     "data": {
      "image/png": "[encoded data removed]",
      "text/plain": [
       "<matplotlib.figure.Figure at 0x7fc89fecb898>"
      ]
     },
     "metadata": {},
     "output_type": "display_data"
    }
   ],
   "source": [
    "\n",
    "lam_array = [2 - i for i in range(13)]\n",
    "Ein_array = []\n",
    "Eval_fold_array = []\n",
    "Ecv_array = []\n",
    "Eout_array = []\n",
    "w_fold_array = [[ridge_regression(10**l, np.array(X_train.tolist()[:i] + X_train.tolist()[i + 40:]), np.array(Y_train.tolist()[:i] + Y_train.tolist()[i + 40:])) \\\n",
    "            for i in [0, 40, 80, 120, 160]] \\\n",
    "            for l in lam_array]\n",
    "\n",
    "ecv_min = 1\n",
    "ecv_index = 0\n",
    "for j in range(len(lam_array)):\n",
    "    Eval_fold_array.append([])\n",
    "    for i in range(5):\n",
    "        Eval_fold_array[-1].append(compute_error(w_fold_array[j][i], X_train[40*i : 40*(i+1)], Y_train[40*i : 40*(i+1)]))\n",
    "    Ecv_array.append(sum(Eval_fold_array[-1]) / 5)\n",
    "    if ecv_min > Ecv_array[-1]:\n",
    "        ecv_min = Ecv_array[-1]\n",
    "        ecv_index = j\n",
    "print(\"The minium Ecv =\", ecv_min, \"with lambda =\", 10 ** lam_array[ecv_index])\n",
    "plt.plot(lam_array, Eval_array)\n",
    "plt.title(\"Ecv-lambda\")\n",
    "plt.show()"
   ]
  },
  {
   "cell_type": "markdown",
   "metadata": {},
   "source": [
    "20."
   ]
  },
  {
   "cell_type": "code",
   "execution_count": 77,
   "metadata": {},
   "outputs": [
    {
     "name": "stdout",
     "output_type": "stream",
     "text": [
      "Ein = 0.015 Eout = 0.02\n"
     ]
    }
   ],
   "source": [
    "lam = 10 ** (-8)\n",
    "best_w_reg = ridge_regression(lam, X_train, Y_train)\n",
    "Ein = compute_error(best_w_reg, X_train, Y_train)\n",
    "Eout = compute_error(best_w_reg, X_test, Y_test)\n",
    "print(\"Ein =\", Ein, \"Eout =\", Eout)"
   ]
  },
  {
   "cell_type": "markdown",
   "metadata": {},
   "source": [
    "![p_21](./hw4_21_22.png)"
   ]
  },
  {
   "cell_type": "markdown",
   "metadata": {},
   "source": [
    "21.<br>\n",
    "For $w_{reg}$, $w_{reg}= (X^TX + \\lambda \\Gamma ^T\\Gamma)^{-1}X^Ty$, comparet with problem 11, we get:  \n",
    "$\\tilde X = \\sqrt \\lambda \\Gamma$, $\\tilde y = 0$"
   ]
  },
  {
   "cell_type": "markdown",
   "metadata": {},
   "source": [
    "22.<br>\n",
    "$reg = ||w - w_{hint}||^2 = (w - w_{hint})^T(w-w_{hint})$  \n",
    "$\\nabla reg = ||w - w_{hint}||^2 = 2(w -w_{hint})$\n",
    "$\\nabla E_{aug} = \\frac{2}{N}[(X^TX + \\lambda I) - (X^Ty + w_{hint})]$, let $\\nabla E_{aug} = 0$, we get:  \n",
    "$w_{reg} = (X^TX + \\lambda I)^{-1}(X^Ty + w_{hint})$, compare with problem 11, we get:  \n",
    "$\\tilde X = \\sqrt \\lambda I$, $\\tilde y = \\large \\frac{w_{hint}}{\\sqrt \\lambda}$"
   ]
  }
 ],
 "metadata": {
  "kernelspec": {
   "display_name": "Python 3",
   "language": "python",
   "name": "python3"
  },
  "language_info": {
   "codemirror_mode": {
    "name": "ipython",
    "version": 3
   },
   "file_extension": ".py",
   "mimetype": "text/x-python",
   "name": "python",
   "nbconvert_exporter": "python",
   "pygments_lexer": "ipython3",
   "version": "3.5.2"
  }
 },
 "nbformat": 4,
 "nbformat_minor": 2
}
