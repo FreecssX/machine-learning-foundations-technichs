{
 "cells": [
  {
   "cell_type": "code",
   "execution_count": 2,
   "metadata": {},
   "outputs": [],
   "source": [
    "import math\n",
    "import matplotlib.pyplot as plt\n",
    "import numpy as np"
   ]
  },
  {
   "cell_type": "markdown",
   "metadata": {},
   "source": [
    "# <center>Homework #3</center>"
   ]
  },
  {
   "cell_type": "markdown",
   "metadata": {},
   "source": [
    "![p1](./hw3_1_2.png)"
   ]
  },
  {
   "cell_type": "markdown",
   "metadata": {},
   "source": [
    "1.<br>\n",
    "From $E_D[E_{in}(w_{lin})] = \\large \\sigma ^2(1 - \\frac{d + 1}{N})$, we can get $N = \\large \\frac {d + 1}{1 - \\frac{E_D[E_{in}(w_{lin})]}{\\sigma ^2}}$, when $E_D[E_{in}(w_{lin})] = 0.008, \\sigma = 0.1, d =8$, we have:  \n",
    "N = 45, so the smallest number of examples will be 45"
   ]
  },
  {
   "cell_type": "markdown",
   "metadata": {},
   "source": [
    "2.<br>\n",
    "[a] is true because H is a project matrix, $y^THy = y^T\\hat y$, the angle between $y$ and $\\hat y$ is no more than $90^\\circ$, which means $y^THy = y^T\\hat y >= 0$, so H is a positive semi-definite matrix  \n",
    "[b] is wrong $rank(H) <= min(rank(X), rank((X^TX)^{-1}), rank(X^T)) <= rank((X^TX)^{-1}) = d < N$, so H is not invertible  \n",
    "[c] is wrong. Suppose one eigenvalue is $\\lambda$, $Hy = \\lambda y = \\hat y$, since $\\hat y$ is the projection of $y$,so $\\lambda$ must be 1  \n",
    "[d] is true. Since X^TX is invertible, rank(X) = d + 1, so $d + 1$ $R^{N}$ vectors that orthogonal to each other and are the span of X construct the eigenvalues of H. Any vecotrs of those d + 1 vectors has the property: $Hp = p$, so there are d + 1 eigenvalues of H which are 1  \n",
    "[e] is true. $HH = X(X^TX)^{-1}X^TX(X^TX)^{-1}X^T = X[(X^TX)^{-1}X^TX](X^TX)^{-1}X^T = X(X^TX)^{-1}X^T = H$,   \n",
    "so $H^1126H = H^{1125}(HH) = H^{1125} = \\cdots = H$"
   ]
  },
  {
   "cell_type": "markdown",
   "metadata": {},
   "source": [
    "![p3](./hw3_3_5.png)"
   ]
  },
  {
   "cell_type": "markdown",
   "metadata": {},
   "source": [
    "3.<br>\n",
    "Let y = 1"
   ]
  },
  {
   "cell_type": "code",
   "execution_count": 19,
   "metadata": {},
   "outputs": [
    {
     "data": {
      "image/png": "[encoded data removed]",
      "text/plain": [
       "<matplotlib.figure.Figure at 0x7f5296999f60>"
      ]
     },
     "metadata": {},
     "output_type": "display_data"
    }
   ],
   "source": [
    "def err_a(y, wTx):\n",
    "    return max(0, 1 - y * wTx)\n",
    "def err_b(y, wTx):\n",
    "    return (max(0, 1 - y * wTx)) ** 2\n",
    "def err_c(y, wTx):\n",
    "    return max(0, -y * wTx)\n",
    "def err_d(y, wTx):\n",
    "    return 1 / (1 + math.exp(-y * wTx))\n",
    "def err_e(y, wTx):\n",
    "    return math.exp(-y * wTx)\n",
    "def err(y, wTx):\n",
    "    return 2 * (y * wTx <= 0) - 1\n",
    "wTx_array = []\n",
    "error_a = []\n",
    "error_b = []\n",
    "error_c = []\n",
    "error_d = []\n",
    "error_e = []\n",
    "error = []\n",
    "for i in range(100):\n",
    "    wTx =  -1.5 + 0.1 * i\n",
    "    wTx_array.append(wTx)\n",
    "    error_a.append(err_a(1, wTx))\n",
    "    error_b.append(err_b(1, wTx))\n",
    "    error_c.append(err_c(1, wTx))\n",
    "    error_d.append(err_d(1, wTx))\n",
    "    error_e.append(err_e(1, wTx))\n",
    "    error.append(err(1, wTx))\n",
    "\n",
    "plt.plot(wTx_array, error, '--', color='purple', label='err')\n",
    "plt.plot(wTx_array, error_a, color='green', label='a')\n",
    "plt.plot(wTx_array, error_b, color='red', label='b')\n",
    "plt.plot(wTx_array, error_c, color='yellow', label='c')\n",
    "plt.plot(wTx_array, error_d, color='blue', label='d')\n",
    "plt.plot(wTx_array, error_e, color='black', label='e')\n",
    "\n",
    "plt.legend()\n",
    "\n",
    "plt.show()"
   ]
  },
  {
   "cell_type": "markdown",
   "metadata": {},
   "source": [
    "As you can see, a b e are upper bounds"
   ]
  },
  {
   "cell_type": "markdown",
   "metadata": {},
   "source": [
    "4.<br>\n",
    "b d e are differentiable"
   ]
  },
  {
   "cell_type": "markdown",
   "metadata": {},
   "source": [
    "5.<br>\n",
    "When using PLA, $w_{t+1} = w_t + y_nx_n$  \n",
    "When using SGD:  \n",
    "if $yw^Tx <= 0$, $\\nabla err = -yx$  \n",
    "$w = w - \\nabla err = w + ys$  \n",
    "else if $yw^Tx > 0$, $\\nabla err = 0$  \n",
    "$w = w - \\nabla err = w$  \n",
    "This is the same as PLA"
   ]
  },
  {
   "cell_type": "markdown",
   "metadata": {},
   "source": [
    "![p6](./hw3_6_10.png)"
   ]
  },
  {
   "cell_type": "markdown",
   "metadata": {},
   "source": [
    "6.<br>\n",
    "$\\nabla E(u,v) = [e^u + ve^{uv} + 2u - 2v - 3, 2e^{2v} + ue^{uv}- 2u + 4v - 2]^T$, so around (0, 0), the gradient is:  \n",
    "$$[-2, 0]^T$$"
   ]
  },
  {
   "cell_type": "markdown",
   "metadata": {},
   "source": [
    "7.<br>"
   ]
  },
  {
   "cell_type": "code",
   "execution_count": 23,
   "metadata": {},
   "outputs": [
    {
     "name": "stdout",
     "output_type": "stream",
     "text": [
      "E(u5, v5) = 2.8250003566832635\n"
     ]
    }
   ],
   "source": [
    "def E(u, v):\n",
    "    return math.exp(u) + math.exp(2 * v) + math.exp(u * v) + u ** 2 - 2 * u * v + 2 * v ** 2 - 3 * u - 2 * v \n",
    "def gradient(u, v):\n",
    "    return [math.exp(u) + v*math.exp(u * v) + 2*u -2*v -3, 2*math.exp(2*v) + u*math.exp(u*v)- 2*u + 4*v - 2]\n",
    "eta = 0.01\n",
    "w = [0, 0]\n",
    "for i in range(5):\n",
    "    delta = gradient(w[0], w[1])\n",
    "    w[0] = w[0] - eta * delta[0]\n",
    "    w[1] = w[1] - eta * delta[1]\n",
    "print('E(u5, v5) =', E(w[0], w[1]))"
   ]
  },
  {
   "cell_type": "markdown",
   "metadata": {},
   "source": [
    "8.<br>\n",
    "$\\frac{\\partial E}{\\partial u} =  e^u + ve^{uv} + 2u - 2v - 3, \\frac{\\partial E}{\\partial u}(0, 0) = -2$  \n",
    "\n",
    "$\\frac{\\partial E}{\\partial v} = 2e^{2v} + ue^{uv}- 2u + 4v - 2, \\frac{\\partial E}{\\partial v}(0, 0) = 0$  \n",
    "\n",
    "$\\frac{\\partial^2 E}{\\partial u^2} = e^u + v^2e^{uv} + 2, \\frac{1}{2!}\\frac{\\partial^2 E}{\\partial u^2}(0, 0) = 1.5$  \n",
    "\n",
    "$\\frac{\\partial^2 E}{\\partial v^2} = 4e^{2v} + u^2e^{uv} +4, \\frac{1}{2!}\\frac{\\partial^2 E}{\\partial v^2}(0, 0) = 4$  \n",
    "\n",
    "$\\frac{\\partial^2 E}{\\partial u \\partial v} = \\frac{\\partial^2 E}{\\partial v \\partial u} = uve^{uv} + e^{uv} - 2, \n",
    "\\frac{1}{2!}\\frac{\\partial^2 E}{\\partial\\ u \\partial v}(0, 0) + \\frac{1}{2!}\\frac{\\partial^2 E}{\\partial\\ v \\partial u}(0, 0)= -1$  \n",
    "\n",
    "$E(0, 0) = 3$  \n",
    "So $(b_{uu}, b_{vv}, b_{uv}, b_u, b_v, b) = (1.5, 4, -1, -2, 0, 3)$"
   ]
  },
  {
   "cell_type": "markdown",
   "metadata": {},
   "source": [
    "9.<br>\n",
    "When $\\Delta u \\to 0$ and $\\Delta v \\to 0$, there is:  \n",
    "$$0 = \\left[\\begin{matrix} \\Delta u & \\Delta v \\end{matrix} \\right] \\left[\\begin{matrix} \\frac{\\partial^2 E}{\\partial u^2} & \\frac{\\partial^2 E}{\\partial uv} \\\\ \\frac{\\partial^2 E}{\\partial vu} & \\frac{\\partial^2 E}{\\partial v^2}\\end{matrix} \\right] \\left[\\begin{matrix} \\Delta u \\\\ \\Delta v \\end{matrix} \\right] + \\left[\\begin{matrix} \\frac{\\partial E}{\\partial u} & \\frac{\\partial E}{\\partial v} \\end{matrix} \\right] \\left[\\begin{matrix} \\Delta u \\\\ \\Delta v \\end{matrix} \\right] = (\\left[\\begin{matrix} \\Delta u & \\Delta v \\end{matrix} \\right] \\nabla ^2E(u,v) + \\left[\\begin{matrix} \\frac{\\partial E}{\\partial u} & \\frac{\\partial E}{\\partial v} \\end{matrix} \\right] )\\left[\\begin{matrix} \\Delta u \\\\ \\Delta v \\end{matrix} \\right]$$  \n",
    "thus:  \n",
    "$$(\\left[\\begin{matrix} \\Delta u & \\Delta v \\end{matrix} \\right] \\nabla ^2E(u,v) + \\left[\\begin{matrix} \\frac{\\partial E}{\\partial u} & \\frac{\\partial E}{\\partial v} \\end{matrix} \\right] ) = 0$$\n",
    "we get:  \n",
    "$$\\left[\\begin{matrix} \\Delta u \\\\ \\Delta v \\end{matrix} \\right] = - (\\nabla ^2E(u,v))^{-1}\\left[\\begin{matrix} \\frac{\\partial E}{\\partial u} \\\\ \\frac{\\partial E}{\\partial v} \\end{matrix} \\right] = - (\\nabla ^2E(u,v))^{-1}\\nabla E(u,v)$$"
   ]
  },
  {
   "cell_type": "markdown",
   "metadata": {},
   "source": [
    "10.<br>"
   ]
  },
  {
   "cell_type": "code",
   "execution_count": 34,
   "metadata": {},
   "outputs": [
    {
     "name": "stdout",
     "output_type": "stream",
     "text": [
      "E(u5, v5) = 2.36082334564\n"
     ]
    }
   ],
   "source": [
    "def hessian(u, v):\n",
    "    uu = math.exp(u) + v**2*math.exp(u*v) + 2\n",
    "    vv = 4*math.exp(2*v) + u**2*math.exp(u*v) + 4\n",
    "    uv = u*v*math.exp(u*v) + math.exp(u*v) - 2\n",
    "    hes = np.array([[uu,uv],[uv,vv]])\n",
    "    return hes\n",
    "def gradient2(u, v):\n",
    "    grad_u, grad_v = gradient(u, v)\n",
    "    return np.array([[grad_u], [grad_v]])\n",
    "\n",
    "w_ = np.array([[0], [0]])\n",
    "\n",
    "for i in range(5):\n",
    "    u = w_[0][0]\n",
    "    v = w_[1][0]\n",
    "    \n",
    "    jacobi = gradient2(u, v)\n",
    "    hess = hessian(u, v)\n",
    "    direction = -np.matmul(np.linalg.inv(hess), jacobi)\n",
    "    w_ = w_ + direction\n",
    "\n",
    "print('E(u5, v5) =', E(w_[0][0], w_[1][0]))    "
   ]
  },
  {
   "cell_type": "markdown",
   "metadata": {},
   "source": [
    "![p11](./hw3_11_12.png)"
   ]
  },
  {
   "cell_type": "markdown",
   "metadata": {},
   "source": [
    "11.<br>\n",
    "Let $\\Phi(x_{u,v}) = [1 \\,\\,u \\,\\,v\\,\\, u^2 \\,\\,v^2 \\,\\,uv]^T$, and let $Z = [\\Phi (x_1)\\,\\, \\Phi (x_2)\\,\\, \\Phi (x_3)\\,\\, \\Phi (x_4)\\,\\, \\Phi (x_5)\\,\\, \\Phi (x_6)]^T$, since the rank of Z is 6 (as shown below), so for any value of $y_i$ in $Y = [y_1 \\,\\, y_2 \\,\\, y_3 \\,\\, y_4 \\,\\, y_5 \\,\\, y_6]$, we have $w = Z^{-1}Y$, so all the x's can be shattered"
   ]
  },
  {
   "cell_type": "code",
   "execution_count": 37,
   "metadata": {},
   "outputs": [
    {
     "name": "stdout",
     "output_type": "stream",
     "text": [
      "The rank of X = 6\n"
     ]
    }
   ],
   "source": [
    "Z = np.array([ [1,  1,  1, 1, 1,  1],\n",
    "               [1,  1, -1, 1, 1, -1],\n",
    "               [1, -1, -1, 1, 1,  1],\n",
    "               [1, -1,  1, 1, 1, -1],\n",
    "               [1,  0,  0, 0, 0,  0],\n",
    "               [1,  1,  0, 1, 0,  0] ])\n",
    "rank_Z = np.linalg.matrix_rank(Z)\n",
    "print(\"The rank of Z =\", rank_Z)"
   ]
  },
  {
   "cell_type": "markdown",
   "metadata": {},
   "source": [
    "12.<br>\n",
    "In the space of $R^N$, the rank of $Z = [\\Phi (x_1)\\,\\, \\Phi (x_2)\\,\\, \\cdots \\Phi (x_N)]^T$ is at most N, and when all the x's are different with each other we can get $Z = I$, so the rank can be equal N. Then the $d_vc(H_{\\Phi}) = \\infty$ because it can shatter any number of points"
   ]
  },
  {
   "cell_type": "markdown",
   "metadata": {},
   "source": [
    "![p_13](./hw3_13_15.png)"
   ]
  },
  {
   "cell_type": "markdown",
   "metadata": {},
   "source": [
    "Generate training set:  "
   ]
  },
  {
   "cell_type": "code",
   "execution_count": 77,
   "metadata": {},
   "outputs": [],
   "source": [
    "def generate_data(random_seed, data_size):\n",
    "    np.random.seed(random_seed)\n",
    "    X0 = [1 for i in range(data_size)]\n",
    "    X1 = list(np.random.uniform(-1, 1, size = data_size))\n",
    "    X2 = list(np.random.uniform(-1, 1, size = data_size))\n",
    "\n",
    "    X = np.array(list(map(list,(zip(X0, X1, X2)))))\n",
    "\n",
    "    Noise = list(np.random.uniform(0, 1, size = data_size))\n",
    "\n",
    "    Y = []\n",
    "    for i in range(data_size):\n",
    "        yi = 2 * ((X1[i] ** 2 + X2[i] ** 2) - 0.6 > 0) - 1\n",
    "        if Noise[i] <= 0.1:\n",
    "            yi = -yi\n",
    "        Y.append([yi])\n",
    "    Y = np.array(Y)\n",
    "    return X, Y"
   ]
  },
  {
   "cell_type": "markdown",
   "metadata": {},
   "source": [
    "13.<br>"
   ]
  },
  {
   "cell_type": "code",
   "execution_count": 113,
   "metadata": {},
   "outputs": [
    {
     "name": "stdout",
     "output_type": "stream",
     "text": [
      "The average Ein = 0.503475\n",
      "The average wlin = 0.0457437369574 0.000303121893049 5.25508130035e-05\n"
     ]
    },
    {
     "data": {
      "image/png": "[encoded data removed]",
      "text/plain": [
       "<matplotlib.figure.Figure at 0x7f52bb225c18>"
      ]
     },
     "metadata": {},
     "output_type": "display_data"
    }
   ],
   "source": [
    "data_size = 1000\n",
    "Ein_array = []\n",
    "weight = np.array([[0.], [0.], [0.]])\n",
    "for i in range(1000):\n",
    "    X, Y = generate_data(i, data_size)\n",
    "    XT_X_inv = (np.linalg.inv(np.matmul(X.T, X)))\n",
    "    XT_X_inv_XYT = np.matmul(XT_X_inv, X.T)\n",
    "    wlin = np.matmul(XT_X_inv_XYT, Y)\n",
    "    weight += wlin\n",
    "    comparison = ((2 * (np.matmul(X, wlin) > 0) - 1) == Y)\n",
    "    Ein_array.append(1 - np.mean(comparison))\n",
    "print(\"The average Ein =\",sum(Ein_array) / 1000)\n",
    "print(\"The average wlin =\", weight[0][0] / 1000, weight[1][0] / 1000, weight[2][0] / 1000)\n",
    "bins = [0.05 * i for i in range(21)]\n",
    "plt.hist(Ein_array, bins)\n",
    "plt.title(\"histogram for Ein\")\n",
    "plt.show()"
   ]
  },
  {
   "cell_type": "markdown",
   "metadata": {},
   "source": [
    "Transform data for higher accuracy"
   ]
  },
  {
   "cell_type": "code",
   "execution_count": 95,
   "metadata": {},
   "outputs": [],
   "source": [
    "def transform_data(X):\n",
    "    X_trans = []\n",
    "    for i in range(len(X)):\n",
    "        x_trans = [X[i][0], X[i][1], X[i][2], X[i][1] * X[i][2], X[i][1] ** 2, X[i][2] ** 2]\n",
    "        X_trans.append(x_trans)\n",
    "    return np.array(X_trans)"
   ]
  },
  {
   "cell_type": "markdown",
   "metadata": {},
   "source": [
    "14."
   ]
  },
  {
   "cell_type": "code",
   "execution_count": 114,
   "metadata": {},
   "outputs": [
    {
     "name": "stdout",
     "output_type": "stream",
     "text": [
      "The average Ein = 0.123886\n",
      "The average wlin = -0.993048049717 0.000634683017139 -0.000620812212801 -0.00133077541287 1.55903695214 1.55895478535\n",
      "The average w3 = -0.00133077541287\n"
     ]
    },
    {
     "data": {
      "image/png": "[encoded data removed]",
      "text/plain": [
       "<matplotlib.figure.Figure at 0x7f529695e5f8>"
      ]
     },
     "metadata": {},
     "output_type": "display_data"
    },
    {
     "data": {
      "image/png": "[encoded data removed]",
      "text/plain": [
       "<matplotlib.figure.Figure at 0x7f52b422d198>"
      ]
     },
     "metadata": {},
     "output_type": "display_data"
    }
   ],
   "source": [
    "data_size = 1000\n",
    "Ein_array = []\n",
    "w3_array = []\n",
    "weight = np.array([[0.],[0.],[0.],[0.],[0.],[0.]])\n",
    "for i in range(1000):\n",
    "    X, Y = generate_data(i, data_size)\n",
    "    X = transform_data(X)\n",
    "    XT_X_inv = (np.linalg.inv(np.matmul(X.T, X)))\n",
    "    XT_X_inv_XYT = np.matmul(XT_X_inv, X.T)\n",
    "    wlin = np.matmul(XT_X_inv_XYT, Y)\n",
    "    weight += wlin\n",
    "    w3_array.append(wlin[3][0])\n",
    "    comparison = ((2 * (np.matmul(X, wlin) > 0) - 1) == Y)\n",
    "    Ein_array.append(1 - np.mean(comparison))\n",
    "print(\"The average Ein =\",sum(Ein_array) / 1000)\n",
    "print(\"The average wlin =\", weight[0][0] / 1000, weight[1][0] / 1000, weight[2][0] / 1000, weight[3][0] / 1000, \\\n",
    "      weight[4][0] / 1000, weight[5][0] / 1000)\n",
    "print(\"The average w3 =\", sum(w3_array) / 1000)\n",
    "bins = [0.05 * i for i in range(21)]\n",
    "plt.hist(Ein_array, bins)\n",
    "plt.title(\"histogram for Ein\")\n",
    "plt.show()\n",
    "bins_w3 = [0.0001 * i for i in range(-20, 20)]\n",
    "plt.hist(w3_array, bins_w3)\n",
    "plt.title(\"histogram for w3\")\n",
    "plt.show()"
   ]
  },
  {
   "cell_type": "markdown",
   "metadata": {},
   "source": [
    "15."
   ]
  },
  {
   "cell_type": "code",
   "execution_count": 115,
   "metadata": {},
   "outputs": [
    {
     "name": "stdout",
     "output_type": "stream",
     "text": [
      "The average Eout = 0.123549\n"
     ]
    },
    {
     "data": {
      "image/png": "[encoded data removed]",
      "text/plain": [
       "<matplotlib.figure.Figure at 0x7f5296af9dd8>"
      ]
     },
     "metadata": {},
     "output_type": "display_data"
    }
   ],
   "source": [
    "test_data_size = 1000\n",
    "Eout_array = []\n",
    "\n",
    "for i in range(1000):\n",
    "    X_test, Y_test = generate_data(i + 1000, test_data_size)\n",
    "    X_test = transform_data(X_test)\n",
    "    comparison = ((2 * (np.matmul(X_test, weight) > 0) - 1) == Y_test)\n",
    "    Eout_array.append(1 - np.mean(comparison))\n",
    "\n",
    "print(\"The average Eout =\",sum(Eout_array) / 1000)\n",
    "bins = [0.05 * i for i in range(21)]\n",
    "plt.hist(Eout_array, bins)\n",
    "plt.title(\"histogram for Eout\")    \n",
    "plt.show()"
   ]
  },
  {
   "cell_type": "markdown",
   "metadata": {},
   "source": [
    "![p16](./hw3_16_17.png)"
   ]
  },
  {
   "cell_type": "markdown",
   "metadata": {},
   "source": [
    "16.<br>  "
   ]
  },
  {
   "cell_type": "markdown",
   "metadata": {},
   "source": [
    "$L(w) = \\prod\\limits_{n = 1}^{N}{h_{y_n}(x_n)}$, as shown in class, to get the best hypothesis, we should maximize $L(w)$ or we can minimize $$E_{in} = -\\frac{1}{N}ln(L(w)) = \\frac{1}{N}\\sum\\limits_{n = 1}^{N}(ln(\\sum\\limits_{i = 1}^{K}exp(w_i^Tx_n)) - w_{y_n}^Tx_n)$$"
   ]
  },
  {
   "cell_type": "markdown",
   "metadata": {},
   "source": [
    "17.<br>  \n",
    "\n",
    "${\\large\\frac {\\partial E_{in}}{\\partial w_i}} = \\frac {1}{N} \\sum\\limits_{n = 1}^{N} ({\\large\\frac{exp(w_i^Tx_n)x_n}{\\sum\\limits_{j = 1}^{K}exp(w_j^Tx_n)}} - [\\![ y_n = i]\\!] x_n)  = \\frac {1}{N} \\sum\\limits_{n = 1}^{N} ( h_i(x) - [\\![ y_n = i]\\!])x_n$\n"
   ]
  },
  {
   "cell_type": "markdown",
   "metadata": {},
   "source": [
    "![p18](./hw3_18_20.png)"
   ]
  },
  {
   "cell_type": "code",
   "execution_count": 58,
   "metadata": {},
   "outputs": [],
   "source": [
    "train_data = np.loadtxt('hw3_train.txt')\n",
    "test_data = np.loadtxt('hw3_test.txt')\n",
    "\n",
    "def generate_data(data): \n",
    "    X = []\n",
    "    Y = []\n",
    "    for i in range(len(data)):\n",
    "        X.append(np.append([1], data[i][:-1]))\n",
    "        Y.append(data[i][-1:])\n",
    "    return np.array(X), np.array(Y)\n",
    "X_train, Y_train = generate_data(train_data)\n",
    "X_test, Y_test = generate_data(test_data)\n",
    "\n",
    "def theta(w, x):\n",
    "    return 1 / (1 + math.exp(-w.dot(x)))\n",
    "\n",
    "def compute_grad_of_one(w, x, y):\n",
    "    return theta(w, -y * x) * (-y * x)\n",
    "\n",
    "\n",
    "def compute_grad_of_all(w, X, Y):\n",
    "    grad_average = np.array([0. for i in range(len(w))])\n",
    "    for i in range(len(X)):\n",
    "        grad_average += compute_grad_of_one(w, X[i].T, Y[i])\n",
    "    return grad_average / len(X)\n",
    "\n",
    "\n",
    "def logistic_reg(X_train, Y_train, learning_rate, T):\n",
    "    w = np.array([0. for i in range(len(X_train[0]))])\n",
    "    for i in range(T):\n",
    "        w = w - learning_rate * compute_grad_of_all(w, X_train, Y_train)\n",
    "    return w\n",
    "\n",
    "def compute_Eout(X_test, Y_test, w):\n",
    "    Eout = 0\n",
    "    temp = np.matmul(X_test, w)\n",
    "    for i in range(len(temp)):\n",
    "        Eout += (temp[i] * Y_test[i][0] <= 0)\n",
    "    return Eout / len(X_test)"
   ]
  },
  {
   "cell_type": "markdown",
   "metadata": {},
   "source": [
    "18."
   ]
  },
  {
   "cell_type": "code",
   "execution_count": 59,
   "metadata": {},
   "outputs": [
    {
     "name": "stdout",
     "output_type": "stream",
     "text": [
      "w =  [ 0.01878417 -0.01260595  0.04084862 -0.03266317  0.01502334 -0.03667437\n",
      "  0.01255934  0.04815065 -0.02206419  0.02479605  0.06899284  0.0193719\n",
      " -0.01988549 -0.0087049   0.04605863  0.05793382  0.061218   -0.04720391\n",
      "  0.06070375 -0.01610907 -0.03484607]\n",
      "Eout =  0.475\n"
     ]
    }
   ],
   "source": [
    "w = logistic_reg(X_train, Y_train, 0.001, 2000)\n",
    "Eout = compute_Eout(X_test, Y_test, w)\n",
    "print('w = ', w)\n",
    "print(\"Eout = \", Eout)"
   ]
  },
  {
   "cell_type": "markdown",
   "metadata": {},
   "source": [
    "19."
   ]
  },
  {
   "cell_type": "code",
   "execution_count": 60,
   "metadata": {},
   "outputs": [
    {
     "name": "stdout",
     "output_type": "stream",
     "text": [
      "w =  [-0.00385379 -0.18914564  0.26625908 -0.35356593  0.04088776 -0.3794296\n",
      "  0.01982783  0.33391527 -0.26386754  0.13489328  0.4914191   0.08726107\n",
      " -0.25537728 -0.16291797  0.30073678  0.40014954  0.43218808 -0.46227968\n",
      "  0.43230193 -0.20786372 -0.36936337]\n",
      "Eout =  0.22\n"
     ]
    }
   ],
   "source": [
    "w = logistic_reg(X_train, Y_train, 0.01, 2000)\n",
    "Eout = compute_Eout(X_test, Y_test, w)\n",
    "print('w = ', w)\n",
    "print(\"Eout = \", Eout)"
   ]
  },
  {
   "cell_type": "markdown",
   "metadata": {},
   "source": [
    "20."
   ]
  },
  {
   "cell_type": "code",
   "execution_count": 61,
   "metadata": {},
   "outputs": [
    {
     "name": "stdout",
     "output_type": "stream",
     "text": [
      "w =  [ 0.01826899 -0.01308051  0.04072894 -0.03295698  0.01498363 -0.03691042\n",
      "  0.01232819  0.04791334 -0.02244958  0.02470544  0.06878235  0.01897378\n",
      " -0.02032107 -0.00901469  0.04589259  0.05776824  0.06102487 -0.04756147\n",
      "  0.06035018 -0.01660574 -0.03509342]\n",
      "Eout =  0.473\n"
     ]
    }
   ],
   "source": [
    "def stochastic_logistic_reg(X_train, Y_train, learning_rate, T):\n",
    "    w = np.array([0. for i in range(len(X_train[0]))])\n",
    "    for i in range(T):\n",
    "        w = w - learning_rate * compute_grad_of_one(w, X_train[i % len(X_train)], Y_train[i % len(X_train)])\n",
    "    return w\n",
    "\n",
    "w = stochastic_logistic_reg(X_train, Y_train, 0.001, 2000)\n",
    "Eout = compute_Eout(X_test, Y_test, w)\n",
    "print('w = ', w)\n",
    "print(\"Eout = \", Eout)"
   ]
  },
  {
   "cell_type": "markdown",
   "metadata": {},
   "source": [
    "![p21](hw3_21_22.png)"
   ]
  },
  {
   "cell_type": "code",
   "execution_count": null,
   "metadata": {},
   "outputs": [],
   "source": []
  }
 ],
 "metadata": {
  "kernelspec": {
   "display_name": "Python 3",
   "language": "python",
   "name": "python3"
  },
  "language_info": {
   "codemirror_mode": {
    "name": "ipython",
    "version": 3
   },
   "file_extension": ".py",
   "mimetype": "text/x-python",
   "name": "python",
   "nbconvert_exporter": "python",
   "pygments_lexer": "ipython3",
   "version": "3.5.2"
  }
 },
 "nbformat": 4,
 "nbformat_minor": 2
}
